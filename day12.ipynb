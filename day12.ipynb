{
 "cells": [
  {
   "cell_type": "code",
   "execution_count": 2,
   "metadata": {},
   "outputs": [],
   "source": [
    "import copy"
   ]
  },
  {
   "cell_type": "code",
   "execution_count": 4,
   "metadata": {},
   "outputs": [
    {
     "name": "stdout",
     "output_type": "stream",
     "text": [
      "{'sample': 7, 'sample2': 10, 'sample3': 18}\n",
      "{'input': 24}\n",
      "[SAMPLE] 10 routes\n",
      "[SAMPLE2] 19 routes\n",
      "[SAMPLE3] 226 routes\n"
     ]
    }
   ],
   "source": [
    "day = 12\n",
    "\n",
    "def parse_data(filename):\n",
    "    f = open(filename)\n",
    "    return [line.strip().split('-') for line in f.readlines()]\n",
    "\n",
    "def build_map(routes):\n",
    "    \n",
    "    map = dict()\n",
    "\n",
    "    def update_map(start, end):\n",
    "        if start in map:\n",
    "            path = map[start]\n",
    "        else:\n",
    "            path = []\n",
    "            map[start]= path\n",
    "        path.append(end)\n",
    "\n",
    "    for route in routes:\n",
    "        start, end = route\n",
    "        update_map(start,end)\n",
    "        update_map(end,start)\n",
    "\n",
    "    return map\n",
    "\n",
    "def walk(paths, map):\n",
    "\n",
    "    next = []\n",
    "    for branch in paths:\n",
    "        location = branch[-1]\n",
    "\n",
    "        if location == 'end':\n",
    "            next.append(branch)\n",
    "        else:\n",
    "            options = map[location]\n",
    "\n",
    "            if len(options) > 0:\n",
    "                for room in options:\n",
    "                    if not room.islower() or not room in branch:\n",
    "                        spur = copy.deepcopy(branch)\n",
    "                        spur.append(room)\n",
    "                        next.append(spur)\n",
    "\n",
    "    return next\n",
    "\n",
    "def find_paths(data, walker):\n",
    "    map = build_map(data)\n",
    "    routes = [['start']]\n",
    "\n",
    "    while sum([1 for route in routes if route[-1]!= 'end']) > 0:\n",
    "        routes = walker(routes, map)\n",
    "\n",
    "    return routes\n",
    "\n",
    "def pretty_print(route):\n",
    "    return \",\".join([location for location in route])\n",
    "\n",
    "sample = parse_data(f'day{day}.sample.dat')\n",
    "sample2 = parse_data(f'day{day}.sample2.dat')\n",
    "sample3 = parse_data(f'day{day}.sample3.dat')\n",
    "print({'sample': len(sample), 'sample2': len(sample2), 'sample3': len(sample3)})\n",
    "input = parse_data(f'day{day}.dat')\n",
    "print({'input': len(input)})\n",
    "\n",
    "routes = find_paths(sample, walk)\n",
    "print(f'[SAMPLE] {len(routes)} routes')\n",
    "if len(routes) != 10:\n",
    "    print('\\n'.join(['\\t'+pretty_print(route) for route in routes]))\n",
    "    raise ValueError(f'[SAMPLE1] Expect 10 routes, found {len(routes)}')\n",
    "\n",
    "routes = find_paths(sample2, walk)\n",
    "print(f'[SAMPLE2] {len(routes)} routes')\n",
    "if len(routes) != 19:\n",
    "    print('\\n'.join(['\\t'+pretty_print(route) for route in routes]))\n",
    "    raise ValueError(f'[SAMPLE2] Expect 19 routes, found {len(routes)}')\n",
    "\n",
    "routes = find_paths(sample3, walk)\n",
    "print(f'[SAMPLE3] {len(routes)} routes')\n",
    "if len(routes) != 226:\n",
    "    print('\\n'.join(['\\t'+pretty_print(route) for route in routes]))\n",
    "    raise ValueError(f'[SAMPLE3] Expect 226 routes, found {len(routes)}')"
   ]
  },
  {
   "cell_type": "code",
   "execution_count": 31,
   "metadata": {},
   "outputs": [
    {
     "name": "stdout",
     "output_type": "stream",
     "text": [
      "[INPUT] 3563 routes\n"
     ]
    }
   ],
   "source": [
    "routes = find_paths(input)\n",
    "print(f'[INPUT] {len(routes)} routes')"
   ]
  },
  {
   "cell_type": "markdown",
   "metadata": {},
   "source": [
    "## --- Part Two ---\n",
    "After reviewing the available paths, you realize you might have time to visit a single small cave twice. Specifically, big caves can be visited any number of times, a single small cave can be visited at most twice, and the remaining small caves can be visited at most once. However, the caves named start and end can only be visited exactly once each: once you leave the start cave, you may not return to it, and once you reach the end cave, the path must end immediately.\n",
    "\n",
    "Now, the 36 possible paths through the first example above are:"
   ]
  },
  {
   "cell_type": "code",
   "execution_count": 8,
   "metadata": {},
   "outputs": [
    {
     "name": "stdout",
     "output_type": "stream",
     "text": [
      "[SAMPLE] 36 routes with limited revisits\n",
      "[SAMPLE2] 103 routes with limited revisits\n",
      "[SAMPLE3] 3509 routes with limited revisits\n"
     ]
    }
   ],
   "source": [
    "def walk_with_limited_revisit(paths, map):\n",
    "\n",
    "    next = []\n",
    "    for branch in paths:\n",
    "        location = branch[-1]\n",
    "\n",
    "        if location == 'end':\n",
    "            next.append(branch)\n",
    "        else:\n",
    "            options = map[location]\n",
    "\n",
    "            if len(options) > 0:\n",
    "                for room in options:\n",
    "                    if room != 'start' and (room.isupper() or max([branch.count(r) for r in branch if r.islower()]) ==1 or branch.count(room) ==0): \n",
    "                        spur = copy.deepcopy(branch)\n",
    "                        spur.append(room)\n",
    "                        next.append(spur)\n",
    "\n",
    "    return next\n",
    "\n",
    "\n",
    "routes = find_paths(sample, walk_with_limited_revisit)\n",
    "print(f'[SAMPLE] {len(routes)} routes with limited revisits')\n",
    "if len(routes) != 36:\n",
    "    print('\\n'.join(['\\t'+pretty_print(route) for route in routes]))\n",
    "    raise ValueError(f'[SAMPLE1] Expect 36 routes, found {len(routes)}')\n",
    "\n",
    "routes = find_paths(sample2, walk_with_limited_revisit)\n",
    "print(f'[SAMPLE2] {len(routes)} routes with limited revisits')\n",
    "if len(routes) != 103:\n",
    "    print('\\n'.join(['\\t'+pretty_print(route) for route in routes]))\n",
    "    raise ValueError(f'[SAMPLE1] Expect 103 routes, found {len(routes)}')\n",
    "\n",
    "routes = find_paths(sample3, walk_with_limited_revisit)\n",
    "print(f'[SAMPLE3] {len(routes)} routes with limited revisits')\n",
    "if len(routes) != 3509:\n",
    "    print('\\n'.join(['\\t'+pretty_print(route) for route in routes]))\n",
    "    raise ValueError(f'[SAMPLE1] Expect 3509 routes, found {len(routes)}')\n"
   ]
  },
  {
   "cell_type": "code",
   "execution_count": 9,
   "metadata": {},
   "outputs": [
    {
     "name": "stdout",
     "output_type": "stream",
     "text": [
      "[INPUT] 105453 routes with limited revisits\n"
     ]
    }
   ],
   "source": [
    "routes = find_paths(input, walk_with_limited_revisit)\n",
    "print(f'[INPUT] {len(routes)} routes with limited revisits')"
   ]
  }
 ],
 "metadata": {
  "interpreter": {
   "hash": "6f7c4d44365b28014734406e4d617c1e1f76ea196def854c7b951a230f6e24f1"
  },
  "kernelspec": {
   "display_name": "Python 3.9.7 64-bit",
   "language": "python",
   "name": "python3"
  },
  "language_info": {
   "codemirror_mode": {
    "name": "ipython",
    "version": 3
   },
   "file_extension": ".py",
   "mimetype": "text/x-python",
   "name": "python",
   "nbconvert_exporter": "python",
   "pygments_lexer": "ipython3",
   "version": "3.9.7"
  },
  "orig_nbformat": 4
 },
 "nbformat": 4,
 "nbformat_minor": 2
}
