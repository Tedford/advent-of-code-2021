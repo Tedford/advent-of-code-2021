{
 "cells": [
  {
   "cell_type": "code",
   "execution_count": 6,
   "metadata": {},
   "outputs": [
    {
     "name": "stdout",
     "output_type": "stream",
     "text": [
      "[SAMPLE]\n",
      "((20, 30), (-10, -5))\n",
      "[INPUT]\n",
      "((153, 199), (-114, -75))\n",
      "[SAMPLE] firing solution (6, 9) HITS with an apex of 45\n"
     ]
    }
   ],
   "source": [
    "day = 17\n",
    "\n",
    "\n",
    "def parse_data(filename):\n",
    "    f = open(filename)\n",
    "    raw =f.readline()\n",
    "    _, remainder = raw.split(':')\n",
    "    x,y = remainder.split(',')\n",
    "    xmin, xmax = x.strip().strip('x=').split('..')\n",
    "    ymin, ymax = y.strip().strip('y=').split('..')\n",
    "    f.close()\n",
    "    return ((int(xmin),int(xmax)), (int(ymin),int(ymax)))\n",
    "\n",
    "def check_for_hit(target, slope):\n",
    "    x,y = (0,0)\n",
    "    run, rise = slope\n",
    "    x_range,y_range = target\n",
    "    hit = False\n",
    "    apex = 0\n",
    "    while x <= x_range[1] and y >= y_range[0] and not hit:\n",
    "        x += run\n",
    "        y += rise\n",
    "        if run < 0:\n",
    "            run += 1\n",
    "        if run > 0:\n",
    "            run -= 1\n",
    "        rise -= 1\n",
    "        hit = x_range[0] <= x <= x_range[1] and y_range[0] <= y <= y_range[1]\n",
    "        apex = max(apex,y)\n",
    "    return (hit,apex)\n",
    "\n",
    "def find_firing_solutions(target):\n",
    "    max_x = target[0][1] + 1\n",
    "    max_y = abs(target[1][1]) * 3\n",
    "    min_y = target[1][0]\n",
    "    hits = []\n",
    "    for x in range(0,max_x):\n",
    "        for y in range(min_y, max_y):\n",
    "            firing_solution = (x,y)\n",
    "            hit, apex = check_for_hit(target, firing_solution)\n",
    "            if hit:\n",
    "                hits.append((firing_solution, apex))\n",
    "    return hits\n",
    "\n",
    "sample = parse_data(f'day{day}.sample.dat')\n",
    "print(f'[SAMPLE]\\n{sample}')\n",
    "input = parse_data(f'day{day}.dat')\n",
    "print(f'[INPUT]\\n{input}')\n",
    "\n",
    "firing_solution = (6,9)\n",
    "hit, apex = check_for_hit(sample, firing_solution)\n",
    "print(f'[SAMPLE] firing solution {firing_solution} {\"HITS\" if hit else \"MISSES\"} with an apex of {apex}')\n",
    "if hit != True:\n",
    "    raise ValueError(f'{firing_solution} should have produced a hit but it missed')\n",
    "if apex != 45:\n",
    "    raise ValueError(f'{apex} should have been 45')\n",
    "\n",
    "tuple_sort = lambda t : t[1]\n",
    "\n",
    "hits = find_firing_solutions(sample)\n",
    "hits.sort(key= tuple_sort)\n",
    "print(f'[SAMPLE] {len(hits)} valid firing solutions found with a maximum apogee of {hits[-1][1]}')\n",
    "if len(hits) != 112:\n",
    "    print(\" \".join([ f'{hit[0][0]},{hit[0][1]}' for hit in hits]))\n",
    "    raise ValueError(f'Should have been 112 solutions instead of {len(hits)}')\n",
    "\n",
    "hits = find_firing_solutions(input)\n",
    "hits.sort(key= tuple_sort)\n",
    "print(f'[INPUT] {len(hits)} valid firing solutions found with a maximum apogee of {hits[-1][1]}')\n"
   ]
  },
  {
   "cell_type": "code",
   "execution_count": null,
   "metadata": {},
   "outputs": [],
   "source": []
  }
 ],
 "metadata": {
  "interpreter": {
   "hash": "6f7c4d44365b28014734406e4d617c1e1f76ea196def854c7b951a230f6e24f1"
  },
  "kernelspec": {
   "display_name": "Python 3.9.7 64-bit",
   "language": "python",
   "name": "python3"
  },
  "language_info": {
   "codemirror_mode": {
    "name": "ipython",
    "version": 3
   },
   "file_extension": ".py",
   "mimetype": "text/x-python",
   "name": "python",
   "nbconvert_exporter": "python",
   "pygments_lexer": "ipython3",
   "version": "3.9.7"
  },
  "orig_nbformat": 4
 },
 "nbformat": 4,
 "nbformat_minor": 2
}
