{
 "cells": [
  {
   "cell_type": "code",
   "execution_count": 1,
   "metadata": {},
   "outputs": [],
   "source": [
    "import pandas as pd"
   ]
  },
  {
   "cell_type": "code",
   "execution_count": 45,
   "metadata": {},
   "outputs": [
    {
     "data": {
      "text/plain": [
       "{'name': 'sample', 'draws': 27, 'boards': 3}"
      ]
     },
     "metadata": {},
     "output_type": "display_data"
    },
    {
     "data": {
      "text/plain": [
       "{'name': 'input', 'draws': 100, 'boards': 100}"
      ]
     },
     "metadata": {},
     "output_type": "display_data"
    }
   ],
   "source": [
    "day = 4\n",
    "\n",
    "def parse_data(filename):\n",
    "    f = open(filename)\n",
    "    lines = f.readlines()\n",
    "    inputs = lines[0].strip().split(',')\n",
    "\n",
    "    boards = []\n",
    "    board = []\n",
    "    \n",
    "    for _, text in enumerate(lines[1:]):\n",
    "        text = text.strip()\n",
    "        if text == \"\" and len(board) > 0:\n",
    "            boards.append(board)\n",
    "            board = []\n",
    "        elif text == \"\":\n",
    "            pass\n",
    "        else:\n",
    "            board += [(number, False) for number in text.strip().replace(\"  \", \" \").split(' ')]\n",
    "\n",
    "    if len(board) > 0:\n",
    "        boards.append(board)\n",
    "        \n",
    "    return (inputs, boards)\n",
    "\n",
    "sample = parse_data(f'day{day}.sample.dat')\n",
    "display({'name': \"sample\", 'draws': len(sample[0]), 'boards': len(sample[1]) })\n",
    "input = parse_data(f'day{day}.dat')\n",
    "display({'name': \"input\", 'draws': len(input[0]), 'boards': len(input[1]) })\n",
    "\n"
   ]
  },
  {
   "cell_type": "code",
   "execution_count": 65,
   "metadata": {},
   "outputs": [
    {
     "name": "stdout",
     "output_type": "stream",
     "text": [
      "xxxxx\n",
      "000x0\n",
      "00x00\n",
      "0x00x\n",
      "xx00x\n",
      "Score: 4512, Draw: 24\n"
     ]
    }
   ],
   "source": [
    "def reset(board):\n",
    "    for index, cell in enumerate(board):\n",
    "        value, _ = cell\n",
    "        board[index] = (value, False)\n",
    "\n",
    "def mark_number(number, board):\n",
    "    for index, cell in enumerate(board):\n",
    "        value, _ = cell\n",
    "        if number == value:\n",
    "            board[index] = (value, True)\n",
    "            break\n",
    "\n",
    "def check_for_winner(board):\n",
    "    winner = False\n",
    "    for i in range(0,5):\n",
    "        row = i * 5\n",
    "        # check horizontally\n",
    "        winner |= sum([1 if marked else 0 for _, marked in board[row:row+5]]) == 5\n",
    "        col = i\n",
    "        # check veritically\n",
    "        winner |= sum([1 if marked else 0 for _, marked  in board[col:col+25:5]]) == 5\n",
    "        if winner:\n",
    "            break\n",
    "    return winner\n",
    "\n",
    "def play_game(sequence, boards):\n",
    "    for board in boards:\n",
    "        reset(board)\n",
    "    for draw in sequence:\n",
    "        for board in boards:\n",
    "            mark_number(draw, board)\n",
    "            if check_for_winner(board):\n",
    "                score = score_board(board, draw)\n",
    "                return {'draw': int(draw), 'score': score, 'board': board}\n",
    "    raise ValueError(\"No winner found\")\n",
    "\n",
    "\n",
    "def score_board(board, drawn):\n",
    "    return sum([int(value) for value, marked in board if not marked]) * int(drawn)\n",
    "\n",
    "def pretty_print(board):\n",
    "    pretty = \"\"\n",
    "    for index, cell in enumerate(board):\n",
    "        pretty += \"\\n\" if index > 0 and index % 5 == 0 else \"\"\n",
    "        pretty += \"x\" if cell[1] else \"0\"\n",
    "    print(pretty)\n",
    "\n",
    "winner = play_game(sample[0], sample[1])\n",
    "\n",
    "actual_draw = winner['draw']\n",
    "actual_score = winner['score']\n",
    "pretty_print(winner['board'])\n",
    "print(f'Score: {actual_score}, Draw: {actual_draw}')\n",
    "if  actual_draw != 24:\n",
    "    raise ValueError(f'The winner draw was 24 not {actual_draw}')\n",
    "if actual_score != 4512:\n",
    "    raise ValueError(f'The winner score was 4512 not {actual_score}')\n"
   ]
  },
  {
   "cell_type": "code",
   "execution_count": 66,
   "metadata": {},
   "outputs": [
    {
     "name": "stdout",
     "output_type": "stream",
     "text": [
      "xx0xx\n",
      "0xx00\n",
      "0x000\n",
      "0x00x\n",
      "xxx0x\n",
      "Score: 8442, Draw: 14\n"
     ]
    }
   ],
   "source": [
    "winner = play_game(input[0], input[1])\n",
    "\n",
    "actual_draw = winner['draw']\n",
    "actual_score = winner['score']\n",
    "pretty_print(winner['board'])\n",
    "print(f'Score: {actual_score}, Draw: {actual_draw}')"
   ]
  },
  {
   "cell_type": "code",
   "execution_count": 71,
   "metadata": {},
   "outputs": [
    {
     "name": "stdout",
     "output_type": "stream",
     "text": [
      "00xx0\n",
      "x0xxx\n",
      "00x0x\n",
      "0xxxx\n",
      "xxx00\n",
      "Score: 1924, Draw: 13\n"
     ]
    }
   ],
   "source": [
    "def find_last(sequence, boards):\n",
    "    for board in boards:\n",
    "        reset(board)\n",
    "    for draw in sequence:\n",
    "        for board in boards:\n",
    "            mark_number(draw, board)\n",
    "        for index, board in enumerate(boards):\n",
    "            if check_for_winner(board):\n",
    "                if len(boards) == 1:\n",
    "                    score = score_board(board, draw)\n",
    "                    return {'draw': int(draw), 'score': score, 'board': board}\n",
    "                else:\n",
    "                    del boards[index]\n",
    "                        \n",
    "    raise ValueError(\"No winner found\")\n",
    "\n",
    "winner = find_last(sample[0], sample[1])\n",
    "\n",
    "actual_draw = winner['draw']\n",
    "actual_score = winner['score']\n",
    "pretty_print(winner['board'])\n",
    "print(f'Score: {actual_score}, Draw: {actual_draw}')\n",
    "if  actual_draw != 13:\n",
    "    raise ValueError(f'The winner draw was 13 not {actual_draw}')\n",
    "if actual_score != 1924:\n",
    "    raise ValueError(f'The winner score was 1924 not {actual_score}')    "
   ]
  },
  {
   "cell_type": "code",
   "execution_count": 72,
   "metadata": {},
   "outputs": [
    {
     "name": "stdout",
     "output_type": "stream",
     "text": [
      "xxxxx\n",
      "xxx0x\n",
      "x0xxx\n",
      "0xx0x\n",
      "xx0xx\n",
      "Score: 4590, Draw: 15\n"
     ]
    }
   ],
   "source": [
    "winner = find_last(input[0], input[1])\n",
    "\n",
    "actual_draw = winner['draw']\n",
    "actual_score = winner['score']\n",
    "pretty_print(winner['board'])\n",
    "print(f'Score: {actual_score}, Draw: {actual_draw}')"
   ]
  }
 ],
 "metadata": {
  "interpreter": {
   "hash": "6f7c4d44365b28014734406e4d617c1e1f76ea196def854c7b951a230f6e24f1"
  },
  "kernelspec": {
   "display_name": "Python 3.9.5 64-bit",
   "language": "python",
   "name": "python3"
  },
  "language_info": {
   "codemirror_mode": {
    "name": "ipython",
    "version": 3
   },
   "file_extension": ".py",
   "mimetype": "text/x-python",
   "name": "python",
   "nbconvert_exporter": "python",
   "pygments_lexer": "ipython3",
   "version": "3.9.7"
  },
  "orig_nbformat": 4
 },
 "nbformat": 4,
 "nbformat_minor": 2
}
