{
 "cells": [
  {
   "cell_type": "markdown",
   "metadata": {},
   "source": [
    "# --- Day 6: Lanternfish ---\n",
    "The sea floor is getting steeper. Maybe the sleigh keys got carried this way?\n",
    "\n",
    "A massive school of glowing lanternfish swims past. They must spawn quickly to reach such large numbers - maybe exponentially quickly? You should model their growth rate to be sure.\n",
    "\n",
    "Although you know nothing about this specific species of lanternfish, you make some guesses about their attributes. Surely, each lanternfish creates a new lanternfish once every 7 days.\n",
    "\n",
    "However, this process isn't necessarily synchronized between every lanternfish - one lanternfish might have 2 days left until it creates another lanternfish, while another might have 4. So, you can model each fish as a single number that represents the number of days until it creates a new lanternfish.\n",
    "\n",
    "Furthermore, you reason, a new lanternfish would surely need slightly longer before it's capable of producing more lanternfish: two more days for its first cycle.\n",
    "\n",
    "So, suppose you have a lanternfish with an internal timer value of 3:\n",
    "\n",
    "After one day, its internal timer would become 2.\n",
    "After another day, its internal timer would become 1.\n",
    "After another day, its internal timer would become 0.\n",
    "After another day, its internal timer would reset to 6, and it would create a new lanternfish with an internal timer of 8.\n",
    "After another day, the first lanternfish would have an internal timer of 5, and the second lanternfish would have an internal timer of 7.\n",
    "A lanternfish that creates a new fish resets its timer to 6, not 7 (because 0 is included as a valid timer value). The new lanternfish starts with an internal timer of 8 and does not start counting down until the next day.\n",
    "\n",
    "Realizing what you're trying to do, the submarine automatically produces a list of the ages of several hundred nearby lanternfish (your puzzle input). For example, suppose you were given the following list:\n",
    "\n",
    "3,4,3,1,2\n",
    "This list means that the first fish has an internal timer of 3, the second fish has an internal timer of 4, and so on until the fifth fish, which has an internal timer of 2. Simulating these fish over several days would proceed as follows:"
   ]
  },
  {
   "cell_type": "code",
   "execution_count": 5,
   "metadata": {},
   "outputs": [
    {
     "data": {
      "text/plain": [
       "{'samples': 4}"
      ]
     },
     "metadata": {},
     "output_type": "display_data"
    },
    {
     "data": {
      "text/plain": [
       "{'input': 5}"
      ]
     },
     "metadata": {},
     "output_type": "display_data"
    },
    {
     "name": "stdout",
     "output_type": "stream",
     "text": [
      "after 80 days 11\n"
     ]
    },
    {
     "ename": "ValueError",
     "evalue": "Expecting 5934 fish, actual 11",
     "output_type": "error",
     "traceback": [
      "\u001b[1;31m---------------------------------------------------------------------------\u001b[0m",
      "\u001b[1;31mValueError\u001b[0m                                Traceback (most recent call last)",
      "\u001b[1;32m~\\AppData\\Local\\Temp/ipykernel_8984/1968145479.py\u001b[0m in \u001b[0;36m<module>\u001b[1;34m\u001b[0m\n\u001b[0;32m     61\u001b[0m \u001b[1;33m\u001b[0m\u001b[0m\n\u001b[0;32m     62\u001b[0m \u001b[1;32mif\u001b[0m \u001b[0mlen\u001b[0m\u001b[1;33m(\u001b[0m\u001b[0mschool\u001b[0m\u001b[1;33m)\u001b[0m \u001b[1;33m!=\u001b[0m \u001b[1;36m5934\u001b[0m\u001b[1;33m:\u001b[0m\u001b[1;33m\u001b[0m\u001b[1;33m\u001b[0m\u001b[0m\n\u001b[1;32m---> 63\u001b[1;33m     \u001b[1;32mraise\u001b[0m \u001b[0mValueError\u001b[0m\u001b[1;33m(\u001b[0m\u001b[1;34mf'Expecting 5934 fish, actual {rollcall(school)}'\u001b[0m\u001b[1;33m)\u001b[0m\u001b[1;33m\u001b[0m\u001b[1;33m\u001b[0m\u001b[0m\n\u001b[0m",
      "\u001b[1;31mValueError\u001b[0m: Expecting 5934 fish, actual 11"
     ]
    }
   ],
   "source": [
    "day = 6\n",
    "\n",
    "def age(school):\n",
    "    new_school = {}\n",
    "    for age, count in school.items():\n",
    "        if age == 0:\n",
    "            new_school[6] = count\n",
    "            new_school[8] = count\n",
    "        else:\n",
    "            new_school[age-1] = count\n",
    "\n",
    "    return new_school\n",
    "\n",
    "def age_old(school):\n",
    "    spawns = [8 for _ in range(0,school.count(0))]\n",
    "    school = [6 if fish == 0 else fish - 1 for fish in school]\n",
    "    return school + spawns\n",
    "\n",
    "def advance_time(school, days):\n",
    "    for _ in range(0,days):\n",
    "        school = age(school)\n",
    "    return school\n",
    "\n",
    "# def advance_time(school, days):\n",
    "#     new_school = {}\n",
    "#     for _ in range(0)\n",
    "#     for age, count in school.items():\n",
    "#         if age == 0:\n",
    "#             new_school[6] = count\n",
    "#             new_school[8] = count\n",
    "#         else:\n",
    "#             new_school[age-1] = count\n",
    "\n",
    "#     return new_school\n",
    "\n",
    "def rollcall(school):\n",
    "    return sum([count for _,count in school.items()])\n",
    "    \n",
    "def parse_data(filename):\n",
    "    f = open(filename)\n",
    "    ages = [int(i) for i in f.readline().split(',')]\n",
    "    school = {}\n",
    "    for age in ages:\n",
    "        if age in school:\n",
    "            school[age] += 1\n",
    "        else:\n",
    "            school[age] = 1\n",
    "    return school\n",
    "\n",
    "def parse_data_old(filename):\n",
    "    f = open(filename)\n",
    "    return [int(i) for i in f.readline().split(',')]\n",
    "\n",
    "sample = parse_data(f'day{day}.sample.dat')\n",
    "display({'samples': len(sample)})\n",
    "input = parse_data(f'day{day}.dat')\n",
    "display({'input': len(input)})\n",
    "\n",
    "school = advance_time(sample, 80)\n",
    "actual = rollcall(school)\n",
    "print(f'after 80 days {actual}')\n",
    "\n",
    "if actual != 5934:\n",
    "    raise ValueError(f'Expecting 5934 fish, actual {actual}')"
   ]
  },
  {
   "cell_type": "code",
   "execution_count": 4,
   "metadata": {},
   "outputs": [
    {
     "name": "stdout",
     "output_type": "stream",
     "text": [
      "input after 80 days 372984\n"
     ]
    }
   ],
   "source": [
    "school = advance_time(input, 80)\n",
    "print(f'input after 80 days {len(school)}')"
   ]
  },
  {
   "cell_type": "markdown",
   "metadata": {},
   "source": [
    "## --- Part Two ---\n",
    "Suppose the lanternfish live forever and have unlimited food and space. Would they take over the entire ocean?\n",
    "\n",
    "After 256 days in the example above, there would be a total of 26984457539 lanternfish!\n",
    "\n",
    "How many lanternfish would there be after 256 days?"
   ]
  },
  {
   "cell_type": "code",
   "execution_count": 5,
   "metadata": {},
   "outputs": [],
   "source": [
    "school = advance_time(sample, 256)\n",
    "print(f'after 80 days {len(school)}')\n",
    "\n",
    "if len(school) != 26984457539:\n",
    "    raise ValueError(f'Expecting 26984457539 fish, actual {len(school)}')"
   ]
  }
 ],
 "metadata": {
  "interpreter": {
   "hash": "6f7c4d44365b28014734406e4d617c1e1f76ea196def854c7b951a230f6e24f1"
  },
  "kernelspec": {
   "display_name": "Python 3.9.7 64-bit",
   "language": "python",
   "name": "python3"
  },
  "language_info": {
   "codemirror_mode": {
    "name": "ipython",
    "version": 3
   },
   "file_extension": ".py",
   "mimetype": "text/x-python",
   "name": "python",
   "nbconvert_exporter": "python",
   "pygments_lexer": "ipython3",
   "version": "3.9.7"
  },
  "orig_nbformat": 4
 },
 "nbformat": 4,
 "nbformat_minor": 2
}
