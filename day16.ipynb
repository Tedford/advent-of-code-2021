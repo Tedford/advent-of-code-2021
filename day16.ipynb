{
 "cells": [
  {
   "cell_type": "code",
   "execution_count": 7,
   "metadata": {},
   "outputs": [
    {
     "name": "stdout",
     "output_type": "stream",
     "text": [
      "['0011', '1000', '0000', '0000', '0110', '1111', '0100', '0101', '0010', '1001', '0001', '0010', '0000', '0000']\n"
     ]
    }
   ],
   "source": [
    "day= 16\n",
    "\n",
    "binary = {\n",
    "    '0': '0000',\n",
    "    '1': '0001',\n",
    "    '2': '0010',\n",
    "    '3': '0011',\n",
    "    '4': '0100',\n",
    "    '5': '0101',\n",
    "    '6': '0110',\n",
    "    '7': '0111',\n",
    "    '8': '1000',\n",
    "    '9': '1001',\n",
    "    'A': '1010',\n",
    "    'B': '1011',\n",
    "    'C': '1100',\n",
    "    'D': '1101',\n",
    "    'E': '1110',\n",
    "    'F': '1111',\n",
    "}\n",
    "\n",
    "def parse_data(filename):\n",
    "    f = open(filename)\n",
    "    data = [binary[byte] for byte in f.readline()]\n",
    "    f.close()\n",
    "    return data\n",
    "\n",
    "\n",
    "\n",
    "\n",
    "sample = parse_data(f'day{day}.sample.dat')\n",
    "print(sample)\n",
    "    "
   ]
  }
 ],
 "metadata": {
  "interpreter": {
   "hash": "6f7c4d44365b28014734406e4d617c1e1f76ea196def854c7b951a230f6e24f1"
  },
  "kernelspec": {
   "display_name": "Python 3.9.7 64-bit",
   "language": "python",
   "name": "python3"
  },
  "language_info": {
   "codemirror_mode": {
    "name": "ipython",
    "version": 3
   },
   "file_extension": ".py",
   "mimetype": "text/x-python",
   "name": "python",
   "nbconvert_exporter": "python",
   "pygments_lexer": "ipython3",
   "version": "3.9.7"
  },
  "orig_nbformat": 4
 },
 "nbformat": 4,
 "nbformat_minor": 2
}
