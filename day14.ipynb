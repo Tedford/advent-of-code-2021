{
 "cells": [
  {
   "cell_type": "code",
   "execution_count": 44,
   "metadata": {},
   "outputs": [
    {
     "name": "stdout",
     "output_type": "stream",
     "text": [
      "[SAMPLE]\n",
      "\telements: {'N', 'H', 'B', 'C'}\n",
      "\tFrequency analysis: [('H', 161), ('C', 298), ('N', 865), ('B', 1749)]\n",
      "After 10 steps the difference was 1588\n",
      "INPUT\n",
      "('SCSCSKKVVBKVFKSCCSOV', {'CP': 'C', 'SF': 'S', 'BH': 'F', 'SS': 'N', 'KB': 'N', 'NO': 'N', 'BP': 'F', 'NK': 'P', 'VP': 'H', 'OF': 'O', 'VH': 'O', 'FV': 'F', 'OP': 'V', 'FP': 'B', 'VB': 'B', 'OK': 'S', 'BS': 'B', 'SK': 'P', 'VV': 'H', 'PC': 'S', 'HV': 'K', 'PS': 'N', 'VS': 'O', 'HF': 'B', 'SV': 'C', 'HP': 'O', 'NF': 'V', 'HB': 'F', 'VO': 'B', 'VN': 'N', 'ON': 'H', 'KV': 'K', 'OV': 'F', 'HO': 'H', 'NB': 'K', 'CB': 'F', 'FF': 'H', 'NH': 'F', 'SN': 'N', 'PO': 'O', 'PH': 'C', 'HH': 'P', 'KF': 'N', 'OH': 'N', 'KS': 'O', 'FH': 'H', 'CC': 'F', 'CK': 'N', 'FC': 'F', 'CF': 'H', 'HN': 'B', 'OC': 'F', 'OB': 'K', 'FO': 'P', 'KP': 'N', 'NC': 'P', 'PN': 'O', 'PV': 'B', 'CO': 'C', 'CS': 'P', 'PP': 'V', 'FN': 'B', 'PK': 'C', 'VK': 'S', 'HS': 'P', 'OS': 'N', 'NP': 'K', 'SB': 'F', 'OO': 'F', 'CV': 'V', 'BB': 'O', 'SH': 'O', 'NV': 'N', 'BN': 'C', 'KN': 'H', 'KC': 'C', 'BK': 'O', 'KO': 'S', 'VC': 'N', 'KK': 'P', 'BO': 'V', 'BC': 'V', 'BV': 'H', 'SC': 'N', 'NN': 'C', 'CH': 'H', 'SO': 'P', 'HC': 'F', 'FS': 'P', 'VF': 'S', 'BF': 'S', 'PF': 'O', 'SP': 'H', 'FK': 'N', 'NS': 'C', 'PB': 'S', 'HK': 'C', 'CN': 'B', 'FB': 'O', 'KH': 'O'})\n",
      "\telements: {'K', 'P', 'S', 'N', 'O', 'F', 'B', 'C', 'V', 'H'}\n",
      "\tFrequency analysis: [('V', 593), ('K', 1373), ('S', 1470), ('C', 1836), ('B', 1956), ('F', 2044), ('H', 2395), ('P', 2420), ('N', 2673), ('O', 2704)]\n",
      "After 10 steps the difference was 2111\n"
     ]
    },
    {
     "ename": "ValueError",
     "evalue": "Expected 2112, drifted to 2111",
     "output_type": "error",
     "traceback": [
      "\u001b[1;31m---------------------------------------------------------------------------\u001b[0m",
      "\u001b[1;31mValueError\u001b[0m                                Traceback (most recent call last)",
      "\u001b[1;32m~\\AppData\\Local\\Temp/ipykernel_20488/456954653.py\u001b[0m in \u001b[0;36m<module>\u001b[1;34m\u001b[0m\n\u001b[0;32m     95\u001b[0m \u001b[0mprint\u001b[0m\u001b[1;33m(\u001b[0m\u001b[1;34mf'After 10 steps the difference was {difference}'\u001b[0m\u001b[1;33m)\u001b[0m\u001b[1;33m\u001b[0m\u001b[1;33m\u001b[0m\u001b[0m\n\u001b[0;32m     96\u001b[0m \u001b[1;32mif\u001b[0m \u001b[0mdifference\u001b[0m \u001b[1;33m!=\u001b[0m \u001b[1;36m2112\u001b[0m\u001b[1;33m:\u001b[0m\u001b[1;33m\u001b[0m\u001b[1;33m\u001b[0m\u001b[0m\n\u001b[1;32m---> 97\u001b[1;33m     \u001b[1;32mraise\u001b[0m \u001b[0mValueError\u001b[0m\u001b[1;33m(\u001b[0m\u001b[1;34mf'Expected 2112, drifted to {difference}'\u001b[0m\u001b[1;33m)\u001b[0m\u001b[1;33m\u001b[0m\u001b[1;33m\u001b[0m\u001b[0m\n\u001b[0m",
      "\u001b[1;31mValueError\u001b[0m: Expected 2112, drifted to 2111"
     ]
    }
   ],
   "source": [
    "day=14\n",
    "\n",
    "def read_data(filename):\n",
    "    f = open(filename)\n",
    "    parse = lambda l : l.strip().split(' -> ')\n",
    "    chain = f.readline().strip()\n",
    "    f.readline()\n",
    "    polymers = {parse(line)[0]:parse(line)[1] for line in f.readlines()}\n",
    "    f.close()\n",
    "    return (chain,polymers)\n",
    "\n",
    "def polymerize(pairs, polymers):\n",
    "    polymerized = {}\n",
    "    def add(element, count):\n",
    "        if element in polymerized:\n",
    "            polymerized[element] += count\n",
    "        else:\n",
    "            polymerized[element] = count\n",
    "\n",
    "    for key,value in pairs.items():\n",
    "        insertion = polymers[key]\n",
    "        left = key[0] + insertion\n",
    "        right = insertion + key[1]\n",
    "\n",
    "        add(left, value)\n",
    "        add(right, value)\n",
    "\n",
    "    return polymerized\n",
    "\n",
    "def determine_elements(polymers):\n",
    "    elements = set()\n",
    "    def add(element):\n",
    "        if not element in elements:\n",
    "            elements.add(element)\n",
    "\n",
    "    for key in polymers.keys():\n",
    "        add(key[0])\n",
    "        add(key[1])\n",
    "\n",
    "    return elements\n",
    "\n",
    "def determine_difference(data, steps):\n",
    "    chain, polymers= data\n",
    "\n",
    "    pairs = {}\n",
    "\n",
    "    for i in range(1, len(chain)):\n",
    "        pair = chain[i-1:i+1]\n",
    "\n",
    "        if pair in pairs:\n",
    "            pairs[pair] += 1\n",
    "        else:\n",
    "            pairs[pair] = 1\n",
    "\n",
    "    elements = determine_elements(polymers)\n",
    "    print(f'\\telements: {elements}')\n",
    "\n",
    "    for step in range(0,steps):\n",
    "        pairs = polymerize(pairs, polymers)\n",
    "        #print(f'Step {step} {sum([value for _,value in pairs.items()])} pairs')\n",
    "\n",
    "    occurences = {}\n",
    "    for key, value in pairs.items():\n",
    "        if key[0] in occurences:\n",
    "            occurences[key[0]] += value\n",
    "        else:\n",
    "            occurences[key[0]] = value\n",
    "        if key[1] in occurences:\n",
    "            occurences[key[1]] += value\n",
    "        else :\n",
    "            occurences[key[1]] = value\n",
    "    for e in chain:\n",
    "        occurences[e] += 1\n",
    "    frequency = [(key,value//2) for key, value in occurences.items()]\n",
    "    frequency.sort(key=lambda t : t[1])\n",
    "    print(f'\\tFrequency analysis: {frequency}')\n",
    "    return frequency[-1][1] - frequency[0][1]\n",
    "\n",
    "sample = read_data(f'day{day}.sample.dat')\n",
    "\n",
    "chain, polymers= sample\n",
    "difference = determine_elements(polymers)\n",
    "\n",
    "print(f'[SAMPLE]')\n",
    "difference = determine_difference(sample, 10)\n",
    "print(f'After 10 steps the difference was {difference}')\n",
    "if difference != 1588:\n",
    "    raise ValueError(f'At step 10 expected a difference of 1588 but was {difference}')\n",
    "\n",
    "input = read_data(f'day{day}.dat')\n",
    "print('INPUT')\n",
    "print(input)\n",
    "\n",
    "difference = determine_difference(input, 10)\n",
    "print(f'After 10 steps the difference was {difference}')\n",
    "if difference != 2112:\n",
    "    raise ValueError(f'Expected 2112, drifted to {difference}')"
   ]
  },
  {
   "cell_type": "markdown",
   "metadata": {},
   "source": [
    "## --- Part Two ---\n",
    "The resulting polymer isn't nearly strong enough to reinforce the submarine. You'll need to run more steps of the pair insertion process; a total of 40 steps should do it.\n",
    "\n",
    "In the above example, the most common element is B (occurring 2192039569602 times) and the least common element is H (occurring 3849876073 times); subtracting these produces 2188189693529.\n",
    "\n",
    "Apply 40 steps of pair insertion to the polymer template and find the most and least common elements in the result. What do you get if you take the quantity of the most common element and subtract the quantity of the least common element?"
   ]
  },
  {
   "cell_type": "code",
   "execution_count": 43,
   "metadata": {},
   "outputs": [
    {
     "name": "stdout",
     "output_type": "stream",
     "text": [
      "\telements: {'N', 'H', 'B', 'C'}\n",
      "\tFrequency analysis: [('H', 7699752146), ('C', 13195270603), ('N', 2192095604707), ('B', 4384079139204)]\n",
      "SAMPLE\n",
      "After 40 steps the chain was had a difference of 2188189693529\n",
      "\telements: {'K', 'P', 'S', 'N', 'O', 'F', 'B', 'C', 'V', 'H'}\n",
      "\tFrequency analysis: [('V', 1148044499235), ('K', 2595592662598), ('S', 2979975943802), ('C', 3461297536896), ('B', 4064137581221), ('H', 4431423403000), ('F', 4948148083993), ('N', 5170175931794), ('P', 5347059413908), ('O', 7635586799061)]\n",
      "INPUT\n",
      "After 40 steps the chain was had a difference of 3243771149913\n",
      "Off by one error, corrected difference is 3243771149914\n"
     ]
    }
   ],
   "source": [
    "difference = determine_difference(sample, 40)\n",
    "print('SAMPLE')\n",
    "print(f'After 40 steps the chain was had a difference of {difference}')\n",
    "if difference != 2188189693529:\n",
    "    raise ValueError(f'Expected a difference of 2188189693529 but was {difference}')\n",
    "\n",
    "\n",
    "difference = determine_difference(input, 40)\n",
    "print('INPUT')\n",
    "print(f'After 40 steps the chain was had a difference of {difference}')\n",
    "print(f'Off by one error, corrected difference is {difference+1}')"
   ]
  }
 ],
 "metadata": {
  "interpreter": {
   "hash": "6f7c4d44365b28014734406e4d617c1e1f76ea196def854c7b951a230f6e24f1"
  },
  "kernelspec": {
   "display_name": "Python 3.9.7 64-bit",
   "language": "python",
   "name": "python3"
  },
  "language_info": {
   "codemirror_mode": {
    "name": "ipython",
    "version": 3
   },
   "file_extension": ".py",
   "mimetype": "text/x-python",
   "name": "python",
   "nbconvert_exporter": "python",
   "pygments_lexer": "ipython3",
   "version": "3.9.7"
  },
  "orig_nbformat": 4
 },
 "nbformat": 4,
 "nbformat_minor": 2
}
