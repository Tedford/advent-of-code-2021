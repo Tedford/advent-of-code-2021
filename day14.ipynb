{
 "cells": [
  {
   "cell_type": "code",
   "execution_count": 19,
   "metadata": {},
   "outputs": [
    {
     "name": "stdout",
     "output_type": "stream",
     "text": [
      "('NNCB', {'CH': 'B', 'HH': 'N', 'CB': 'H', 'NH': 'C', 'HB': 'C', 'HC': 'B', 'HN': 'C', 'NN': 'C', 'BH': 'H', 'NC': 'B', 'NB': 'B', 'BN': 'B', 'BB': 'N', 'BC': 'B', 'CC': 'N', 'CN': 'C'})\n",
      "[SAMPLE]\n",
      "\telements: {'C', 'H', 'B', 'N'}\n",
      "\tFrequency analysis: [('H', 1), ('C', 2), ('B', 2), ('N', 2)]\n",
      "\telements: {'C', 'H', 'B', 'N'}\n",
      "\tFrequency analysis: [('H', 1), ('N', 2), ('C', 4), ('B', 6)]\n",
      "\telements: {'C', 'H', 'B', 'N'}\n",
      "\tFrequency analysis: [('H', 4), ('C', 5), ('N', 5), ('B', 11)]\n",
      "\telements: {'C', 'H', 'B', 'N'}\n",
      "\tFrequency analysis: [('H', 5), ('C', 10), ('N', 11), ('B', 23)]\n",
      "\telements: {'C', 'H', 'B', 'N'}\n",
      "\tFrequency analysis: [('H', 161), ('C', 298), ('N', 865), ('B', 1749)]\n",
      "After 10 steps the chain was NBBNBBNBBNBBNBBNBBNBBNBBNBBNBBNBBNBBNBBNBBNBBNBBNBBNBBNBBNBBNBBNBBNBBNBBNBBNBBNBBNBBNBBNBBNBBNBBNBBNBBNBBNBBNBBNBBNBBNBBNBBNBBNBBNBBNBBNBBNBBNBBNBBNBBNBBNBBNBBNBBNBBNBBNBBNBBNBBNBBNBBNBBNBBNBBNBBNBBNBBNBBNBBNBBNBBNBBNBBNBBNBBNBBNBBNBBNBBNBBNBBNBBNBBNBBNBBNBNBBNBBNBBNBBNBBNBBNBBNBBNBBNBBNBBNBBNBBNBBNBBNBBNBBNBBNBBNBBNBBNBBNBBNBBNBBNBBNBBNBBNBBNBBNBBNBBNBBNBBNBBNBBNBBNBBNBBNBBNBBNBBNBBNBBNBBNBBNBBNBBNBBNBBNBBNBBNBBNBBNBBNBBNBBNBBNBBNBBNBBNBBNBBNBBNBBNBBNBBNBBNBBNBBNBBNBBNBBNBBNBBNBBNBBNBBNBBNBBNBBNBBNBBNBBNBBCCNBCNCCNBBNBNBBCNCCNBBBCCNBCNCCNBBNBBNBBNBBNBBNBNBBNBBNBBNBBNBBCNCCNBBBCCNBCNCCNBBNBBNBBBNBBNBBCCNBCNCCNBBNBNBBCNCCNBBBCCNBCNCCNBBNBBNBBNBBNBBNBBNBBNBBNBBNBBNBBNBBNBBNBBNBBNBBNBBNBBNBBNBBNBBNBNBBNBBNBBNBBNBBNBBNBBNBBNBBNBBNBBNBBNBBNBBNBBNBBNBBNBBNBBNBBNBBCNCCNBBBCCNBCNCCNBBNBBNBBBNBBNBBCCNBCNCCNBBNBNBBCNCCNBBBCCNBCNCCNBBNBBNBBNBBNBBNBBNBBNBBNBBNBBNBBBNBBNBBNBBNBBNBBNBBNBBNBBNBBNBBCCNBCNCCNBBNBNBBCNCCNBBBCCNBCNCCNBBNBBNBBNBBNBBNBNBBNBBNBBNBBNBBCNCCNBBBCCNBCNCCNBBNBBNBBBNBBNBBCCNBCNCCNBBNBNBBCNCCNBBBCCNBCNCCNBBNBBNBBNBBNBBNBBNBBNBBNBBNBBNBBNBBNBBNBBNBBNBBNBBNBBNBBNBBNBBNBBNBBNBBNBBNBBNBBNBBNBBNBBNBBNBBNBBNBBNBBNBBNBBNBBNBBNBBNBBNBBNBBNBBNBBNBBNBBNBBNBBNBBNBBNBBNBBNBBNBBNBBNBBNBBNBBNBBNBBNBBNBBNBBNBBNBBNBBNBBNBBNBBNBBNBBNBBNBBNBBNBBNBBNBBNBBNBBNBBNBBNBBNBBNBBNBBNBBNBBNBBNBBNBBNBBNBBNBBNBBNBBNBBNBBNBBNBBNBBNBBNBBNBBNBBNBBNBBNBBNBBNBBNBBNBBNBBNBBNBBNBBNBBNBBNBBNBBNBBNBBNBBNBBNBBNBBNBBNBBNBBNBBNBBNBBNBBNBBNBBNBBNBBNBBNBBNBBNBBNBBNBBNBBNBBNBBNBBNBBNBBNBBNBBNBBNBBNBBNBBNBBNBBNBBNBBNBBNBBNBBNBBNBBNBBNBBNBBNBBNBBNBBNBBBNBBNBBNBBNBBNBBNBBNBBNBBNBBNBBNBBNBBNBBNBBNBBNBBNBBNBBNBBNBBNBBNBBNBBNBBNBBNBBNBBNBBNBBNBBNBBNBBNBBNBBNBBNBBNBBNBBNBBNBBNBBNBBNBBNBBNBBNBBNBBNBBNBBNBBNBBNBBNBBNBBNBBNBBNBBNBBNBBNBBNBBNBBNBBNBBNBBNBBNBBNBBNBBNBBNBBNBBNBBNBBNBBNBBNBBNBBNBBNBBNBBNBBNBBNBBNBBNBBNBBNBBNBBNBBNBBNBBNBBNBBNBBNBBNBBNBBNBBNBBNBBNBBNBBNBBNBBNBBNBBNBBNBBNBBNBBNBBNBBNBBNBBNBBNBBNBBNBBNBBNBBNBBNBBNBBNBBNBBNBBNBBNBBNBBNBBNBBNBBNBBNBBNBBNBBNBBNBBNBBNBBNBBNBBNBBNBBNBBNBBNBBNBBNBBNBBNBBNBBNBBNBBNBBNBBNBBNBBNBBNBBNBBNBBNBBNBBNBBNBBNBBNBBNBBCBHCBHHNHCBBCBHCBHHNHCNCHBCCNBCBHCBBCBHCBBNBBNBBCBHCBHHNHCBBCBHCBHHNHCNCHBCCNBCBHCBBCNCCNBBBCHBHHBCHBNBBCCNBCNCCNBBNBNBBCBHCBHHNHCBBCBHCBBNBBNBBCBHCBHHNHCBBCBHCBBNBBNBBNBBNBBNBBNBBNBBNBBNBBNBBCBHCBHHNHCBBCBHCBHHNHCNCHBCCNBCBHCBBCBHCBBNBBNBBCBHCBHHNHCBBCBHCBHHNHCNCHBCCNBCBHCBBCNCCNBBBCHBHHBCHBNBBCCNBCNCCNBBNBNBBCBHCBHHNHCBBCBHCBBNBBNBBCNCCNBBBCCNBCNCCNBBNBBNBBBNBBNBBCHBHHBCHBHHNHCNCHBCHBNBBCHBHHBCHBNBBNBBNBBNBBNBBCCNBCNCCNBBNBNBBCNCCNBBBCCNBCNCCNBBNBBNBBNBBNBBNBNBBNBBNBBNBBNBBCBHCBHHNHCBBCBHCBHHNHCNCHBCCNBCBHCBBCBHCBBNBBNBBCBHCBHHNHCBBCBHCBBNBBNBBNBBNBBNBBNBBNBBNBBNBBNBBCBHCBHHNHCBBCBHCBHHNHCNCHBCCNBCBHCBBCBHCBBNBBNBBCBHCBHHNHCBBCBHCBBNBBNBBNBBNBBNBBNBBNBBNBBNBBNBBNBBNBBNBBNBBNBBNBBNBBNBBNBBNBBNBBNBBNBBNBBNBBNBBNBBNBBNBBNBBNBBNBBNBBNBBNBBNBBNBBNBBNBBNBBNBBNBBCBHCBHHNHCBBCBHCBHHNHCNCHBCCNBCBHCBBCBHCBBNBBNBBCBHCBHHNHCBBCBHCBHHNHCNCHBCCNBCBHCBBCNCCNBBBCHBHHBCHBNBBCCNBCNCCNBBNBNBBCBHCBHHNHCBBCBHCBBNBBNBBCBHCBHHNHCBBCBHCBBNBBNBBNBBNBBNBBNBBNBBNBBNBBNBBCBHCBHHNHCBBCBHCBHHNHCNCHBCCNBCBHCBBCBHCBBNBBNBBCBHCBHHNHCBBCBHCB with a difference of 1588\n"
     ]
    }
   ],
   "source": [
    "day=14\n",
    "\n",
    "def read_data(filename):\n",
    "    f = open(filename)\n",
    "    parse = lambda l : l.strip().split(' -> ')\n",
    "    chain = f.readline().strip()\n",
    "    f.readline()\n",
    "    polymers = {parse(line)[0]:parse(line)[1] for line in f.readlines()}\n",
    "    f.close()\n",
    "    return (chain,polymers)\n",
    "\n",
    "def polymerize(template, polymers):\n",
    "    indexes = [i for i in range(0,len(template))]\n",
    "    polymer = [c for c in template]\n",
    "\n",
    "    for i in range(0,len(template)-1):\n",
    "        insertion = polymers[\"\".join(template[i:i+2])]\n",
    "        index = indexes[i+1]\n",
    "        polymer.insert(index,insertion)\n",
    "        for j in range(i+1, len(indexes)):\n",
    "            indexes[j] += 1\n",
    "\n",
    "    return \"\".join(polymer)\n",
    "\n",
    "def determine_elements(polymers):\n",
    "    elements = set()\n",
    "    def add(element):\n",
    "        if not element in elements:\n",
    "            elements.add(element)\n",
    "\n",
    "    for key,value in polymers.items():\n",
    "        add(value)\n",
    "        add(key[0])\n",
    "        add(key[1])\n",
    "\n",
    "    return elements\n",
    "\n",
    "def determine_difference(data, steps):\n",
    "    chain, polymers= data\n",
    "    elements = determine_elements(polymers)\n",
    "    print(f'\\telements: {elements}')\n",
    "\n",
    "    for _ in range(0,steps):\n",
    "        chain = polymerize(chain, polymers)\n",
    "\n",
    "    frequency = [(e, chain.count(e))for e in elements]\n",
    "    frequency.sort(key=lambda t : t[1])\n",
    "    print(f'\\tFrequency analysis: {frequency}')\n",
    "    difference = frequency[-1][1] - frequency[0][1]\n",
    "\n",
    "    return chain, difference\n",
    "\n",
    "sample = read_data(f'day{day}.sample.dat')\n",
    "\n",
    "chain, polymers= sample\n",
    "elements = determine_elements(polymers)\n",
    "\n",
    "print(f'[SAMPLE]')\n",
    "chain, _ = determine_difference(sample, 1)\n",
    "if chain != \"NCNBCHB\":\n",
    "    raise ValueError(f'At step 1 expected NCNBCHB but was {chain}')\n",
    "chain, _ = determine_difference(sample, 2)\n",
    "if chain != \"NBCCNBBBCBHCB\":\n",
    "    raise ValueError(f'At step 2 expected NBCCNBBBCBHCB but was {chain}')\n",
    "chain, _ = determine_difference(sample, 3)\n",
    "if chain != \"NBBBCNCCNBBNBNBBCHBHHBCHB\":\n",
    "    raise ValueError(f'At step 3 expected NBCCNBBBCBHCB but was {chain}')\n",
    "chain, _ = determine_difference(sample, 4)\n",
    "if chain != \"NBBNBNBBCCNBCNCCNBBNBBNBBBNBBNBBCBHCBHHNHCBBCBHCB\":\n",
    "    raise ValueError(f'At step 4 expected NBBNBNBBCCNBCNCCNBBNBBNBBBNBBNBBCBHCBHHNHCBBCBHCB but was {chain}')\n",
    "\n",
    "chain, difference = determine_difference(sample, 10)\n",
    "print(f'After 10 steps the chain was {chain} with a difference of {difference}')\n",
    "if difference != 1588:\n",
    "    raise ValueError(f'At step 10 expected a difference of 1588 but was {difference}')"
   ]
  },
  {
   "cell_type": "code",
   "execution_count": 22,
   "metadata": {},
   "outputs": [
    {
     "name": "stdout",
     "output_type": "stream",
     "text": [
      "INPUT\n",
      "('SCSCSKKVVBKVFKSCCSOV', {'CP': 'C', 'SF': 'S', 'BH': 'F', 'SS': 'N', 'KB': 'N', 'NO': 'N', 'BP': 'F', 'NK': 'P', 'VP': 'H', 'OF': 'O', 'VH': 'O', 'FV': 'F', 'OP': 'V', 'FP': 'B', 'VB': 'B', 'OK': 'S', 'BS': 'B', 'SK': 'P', 'VV': 'H', 'PC': 'S', 'HV': 'K', 'PS': 'N', 'VS': 'O', 'HF': 'B', 'SV': 'C', 'HP': 'O', 'NF': 'V', 'HB': 'F', 'VO': 'B', 'VN': 'N', 'ON': 'H', 'KV': 'K', 'OV': 'F', 'HO': 'H', 'NB': 'K', 'CB': 'F', 'FF': 'H', 'NH': 'F', 'SN': 'N', 'PO': 'O', 'PH': 'C', 'HH': 'P', 'KF': 'N', 'OH': 'N', 'KS': 'O', 'FH': 'H', 'CC': 'F', 'CK': 'N', 'FC': 'F', 'CF': 'H', 'HN': 'B', 'OC': 'F', 'OB': 'K', 'FO': 'P', 'KP': 'N', 'NC': 'P', 'PN': 'O', 'PV': 'B', 'CO': 'C', 'CS': 'P', 'PP': 'V', 'FN': 'B', 'PK': 'C', 'VK': 'S', 'HS': 'P', 'OS': 'N', 'NP': 'K', 'SB': 'F', 'OO': 'F', 'CV': 'V', 'BB': 'O', 'SH': 'O', 'NV': 'N', 'BN': 'C', 'KN': 'H', 'KC': 'C', 'BK': 'O', 'KO': 'S', 'VC': 'N', 'KK': 'P', 'BO': 'V', 'BC': 'V', 'BV': 'H', 'SC': 'N', 'NN': 'C', 'CH': 'H', 'SO': 'P', 'HC': 'F', 'FS': 'P', 'VF': 'S', 'BF': 'S', 'PF': 'O', 'SP': 'H', 'FK': 'N', 'NS': 'C', 'PB': 'S', 'HK': 'C', 'CN': 'B', 'FB': 'O', 'KH': 'O'})\n",
      "\telements: {'C', 'O', 'P', 'H', 'B', 'V', 'K', 'S', 'N', 'F'}\n",
      "\tFrequency analysis: [('V', 592), ('K', 1371), ('S', 1468), ('C', 1834), ('B', 1956), ('F', 2044), ('H', 2395), ('P', 2420), ('N', 2673), ('O', 2704)]\n",
      "After 10 steps the chain was 19457 elements with a difference of 2112\n"
     ]
    }
   ],
   "source": [
    "input = read_data(f'day{day}.dat')\n",
    "print('INPUT')\n",
    "print(input)\n",
    "\n",
    "chain, difference = determine_difference(input, 10)\n",
    "print(f'After 10 steps the chain was {len(chain)} elements with a difference of {difference}')\n"
   ]
  },
  {
   "cell_type": "markdown",
   "metadata": {},
   "source": [
    "## --- Part Two ---\n",
    "The resulting polymer isn't nearly strong enough to reinforce the submarine. You'll need to run more steps of the pair insertion process; a total of 40 steps should do it.\n",
    "\n",
    "In the above example, the most common element is B (occurring 2192039569602 times) and the least common element is H (occurring 3849876073 times); subtracting these produces 2188189693529.\n",
    "\n",
    "Apply 40 steps of pair insertion to the polymer template and find the most and least common elements in the result. What do you get if you take the quantity of the most common element and subtract the quantity of the least common element?"
   ]
  },
  {
   "cell_type": "code",
   "execution_count": 23,
   "metadata": {},
   "outputs": [
    {
     "name": "stdout",
     "output_type": "stream",
     "text": [
      "\telements: {'C', 'O', 'P', 'H', 'B', 'V', 'K', 'S', 'N', 'F'}\n"
     ]
    }
   ],
   "source": [
    "chain, difference = determine_difference(input, 40)\n",
    "print('SAMPLE')\n",
    "print(f'After 40 steps the chain was {len(chain)} elements with a difference of {difference}')"
   ]
  }
 ],
 "metadata": {
  "interpreter": {
   "hash": "6f7c4d44365b28014734406e4d617c1e1f76ea196def854c7b951a230f6e24f1"
  },
  "kernelspec": {
   "display_name": "Python 3.9.7 64-bit",
   "language": "python",
   "name": "python3"
  },
  "language_info": {
   "codemirror_mode": {
    "name": "ipython",
    "version": 3
   },
   "file_extension": ".py",
   "mimetype": "text/x-python",
   "name": "python",
   "nbconvert_exporter": "python",
   "pygments_lexer": "ipython3",
   "version": "3.9.7"
  },
  "orig_nbformat": 4
 },
 "nbformat": 4,
 "nbformat_minor": 2
}
