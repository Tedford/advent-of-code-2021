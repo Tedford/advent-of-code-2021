{
 "cells": [
  {
   "cell_type": "code",
   "execution_count": 1,
   "metadata": {},
   "outputs": [
    {
     "data": {
      "text/plain": [
       "{'samples': 5}"
      ]
     },
     "metadata": {},
     "output_type": "display_data"
    },
    {
     "data": {
      "text/plain": [
       "{'input': 100}"
      ]
     },
     "metadata": {},
     "output_type": "display_data"
    },
    {
     "name": "stdout",
     "output_type": "stream",
     "text": [
      "4 detected for a risk of 15\n",
      "[((1, 0), 1), ((2, 2), 5), ((6, 4), 5), ((9, 0), 0)]\n"
     ]
    }
   ],
   "source": [
    "day = 9\n",
    "\n",
    "def parse_data(filename):\n",
    "\n",
    "    def parse_line(line):\n",
    "        return [int(height) for height in line.strip()]\n",
    "        \n",
    "\n",
    "    f = open(filename)\n",
    "    return [parse_line(line) for line in f.readlines()]\n",
    "\n",
    "def find_local_minima(heightmap):\n",
    "    rows = len(heightmap)\n",
    "    cols = len(heightmap[0])\n",
    "\n",
    "    minima = []\n",
    "    for x in range(0, cols):\n",
    "        for y in range(0,rows):\n",
    "\n",
    "            local_minima = True\n",
    "            if x > 0:\n",
    "                local_minima &= heightmap[y][x] < heightmap[y][x-1]\n",
    "            \n",
    "            if x < cols-1:\n",
    "                local_minima &= heightmap[y][x] < heightmap[y][x+1]\n",
    "\n",
    "            if y > 0:\n",
    "                local_minima &= heightmap[y][x] < heightmap[y-1][x]\n",
    "\n",
    "            if y < rows-1:\n",
    "                local_minima &= heightmap[y][x] < heightmap[y+1][x]\n",
    "\n",
    "            if local_minima:\n",
    "                minima.append(((x,y),heightmap[y][x]))\n",
    "    return minima\n",
    "\n",
    "\n",
    "sample = parse_data(f'day{day}.sample.dat')\n",
    "display({'samples': len(sample)})\n",
    "input = parse_data(f'day{day}.dat')\n",
    "display({'input': len(input)})\n",
    "\n",
    "\n",
    "minima = find_local_minima(sample)\n",
    "risk = sum([value for _, value in minima]) +len(minima)\n",
    "print(f'{len(minima)} detected for a risk of {risk}')\n",
    "print(minima)\n",
    "if risk != 15:\n",
    "    raise ValueError(f'[SAMPLE] Expected 15, actual {risk}')\n"
   ]
  },
  {
   "cell_type": "code",
   "execution_count": 7,
   "metadata": {},
   "outputs": [
    {
     "name": "stdout",
     "output_type": "stream",
     "text": [
      "247 detected for a risk of 600\n"
     ]
    }
   ],
   "source": [
    "minima = find_local_minima(input)\n",
    "risk = sum([value for _, value in minima]) +len(minima)\n",
    "print(f'{len(minima)} detected for a risk of {risk}')"
   ]
  },
  {
   "cell_type": "markdown",
   "metadata": {},
   "source": [
    "## --- Part Two ---\n",
    "Next, you need to find the largest basins so you know what areas are most important to avoid.\n",
    "\n",
    "A basin is all locations that eventually flow downward to a single low point. Therefore, every low point has a basin, although some basins are very small. Locations of height 9 do not count as being in any basin, and all other locations will always be part of exactly one basin.\n",
    "\n",
    "The size of a basin is the number of locations within the basin, including the low point. The example above has four basins.\n",
    "\n",
    "The top-left basin, size 3:\n",
    "\n",
    "2199943210\n",
    "3987894921\n",
    "9856789892\n",
    "8767896789\n",
    "9899965678\n",
    "The top-right basin, size 9:\n",
    "\n",
    "2199943210\n",
    "3987894921\n",
    "9856789892\n",
    "8767896789\n",
    "9899965678\n",
    "The middle basin, size 14:\n",
    "\n",
    "2199943210\n",
    "3987894921\n",
    "9856789892\n",
    "8767896789\n",
    "9899965678\n",
    "The bottom-right basin, size 9:\n",
    "\n",
    "2199943210\n",
    "3987894921\n",
    "9856789892\n",
    "8767896789\n",
    "9899965678\n",
    "Find the three largest basins and multiply their sizes together. In the above example, this is 9 * 14 * 9 = 1134.\n",
    "\n",
    "What do you get if you multiply together the sizes of the three largest basins?"
   ]
  },
  {
   "cell_type": "code",
   "execution_count": 4,
   "metadata": {},
   "outputs": [
    {
     "name": "stdout",
     "output_type": "stream",
     "text": [
      "[SAMPLE] 4 basins detected [9, 9, 14] with the size being 1134\n"
     ]
    }
   ],
   "source": [
    "def find_basin_size(heightmap, minima):\n",
    "    rows = len(heightmap)\n",
    "    cols = len(heightmap[0])\n",
    "    x0, y0 = minima\n",
    "\n",
    "    cells = set()\n",
    "\n",
    "    can_explore = lambda x,y : 0<= x < cols and 0<= y < rows and heightmap[y][x]!= 9 and (x,y) not in cells\n",
    "    \n",
    "    def explore(x,y):\n",
    "        if can_explore(x,y):\n",
    "            cells.add((x,y))\n",
    "\n",
    "        if can_explore (x-1,y):\n",
    "            explore(x-1,y)\n",
    "\n",
    "        if can_explore(x+1,y):\n",
    "            explore(x+1,y)\n",
    "\n",
    "        if can_explore(x,y-1):\n",
    "            explore(x,y-1)\n",
    "\n",
    "        if can_explore(x,y+1):\n",
    "            explore(x,y+1)\n",
    "\n",
    "\n",
    "    explore(x0,y0)\n",
    "\n",
    "    return len(cells)\n",
    "\n",
    "\n",
    "def find_basins(heightmap):\n",
    "    local_minima = find_local_minima(heightmap)\n",
    "    return [find_basin_size(heightmap, minima[0]) for minima in local_minima]\n",
    "        \n",
    "basins = find_basins(sample)\n",
    "basins.sort()\n",
    "\n",
    "largest_three = basins[-3:]\n",
    "basin_size = largest_three[0] * largest_three[1] * largest_three[2] \n",
    "print(f'[SAMPLE] {len(basins)} basins detected {largest_three} with the size being {basin_size}')\n",
    "if basin_size != 1134:\n",
    "    raise ValueError(f'[SAMPLE] Expected 1134, actual {basin_size}')"
   ]
  },
  {
   "cell_type": "code",
   "execution_count": 9,
   "metadata": {},
   "outputs": [
    {
     "name": "stdout",
     "output_type": "stream",
     "text": [
      "[INPUT] 247 basins detected [96, 98, 105] with the size being 987840\n"
     ]
    }
   ],
   "source": [
    "basins = find_basins(input)\n",
    "basins.sort()\n",
    "\n",
    "largest_three = basins[-3:]\n",
    "basin_size = largest_three[0] * largest_three[1] * largest_three[2] \n",
    "print(f'[INPUT] {len(basins)} basins detected {largest_three} with the size being {basin_size}')"
   ]
  }
 ],
 "metadata": {
  "interpreter": {
   "hash": "6f7c4d44365b28014734406e4d617c1e1f76ea196def854c7b951a230f6e24f1"
  },
  "kernelspec": {
   "display_name": "Python 3.9.7 64-bit",
   "language": "python",
   "name": "python3"
  },
  "language_info": {
   "codemirror_mode": {
    "name": "ipython",
    "version": 3
   },
   "file_extension": ".py",
   "mimetype": "text/x-python",
   "name": "python",
   "nbconvert_exporter": "python",
   "pygments_lexer": "ipython3",
   "version": "3.9.7"
  },
  "orig_nbformat": 4
 },
 "nbformat": 4,
 "nbformat_minor": 2
}
