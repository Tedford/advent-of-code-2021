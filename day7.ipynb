{
 "cells": [
  {
   "cell_type": "markdown",
   "metadata": {},
   "source": [
    "# -- Day 7: The Treachery of Whales ---\n",
    "A giant whale has decided your submarine is its next meal, and it's much faster than you are. There's nowhere to run!\n",
    "\n",
    "Suddenly, a swarm of crabs (each in its own tiny submarine - it's too deep for them otherwise) zooms in to rescue you! They seem to be preparing to blast a hole in the ocean floor; sensors indicate a massive underground cave system just beyond where they're aiming!\n",
    "\n",
    "The crab submarines all need to be aligned before they'll have enough power to blast a large enough hole for your submarine to get through. However, it doesn't look like they'll be aligned before the whale catches you! Maybe you can help?\n",
    "\n",
    "There's one major catch - crab submarines can only move horizontally.\n",
    "\n",
    "You quickly make a list of the horizontal position of each crab (your puzzle input). Crab submarines have limited fuel, so you need to find a way to make all of their horizontal positions match while requiring them to spend as little fuel as possible.\n",
    "\n",
    "For example, consider the following horizontal positions:\n",
    "\n",
    "`16,1,2,0,4,2,7,1,2,14`\n",
    "This means there's a crab with horizontal position 16, a crab with horizontal position 1, and so on.\n",
    "\n",
    "Each change of 1 step in horizontal position of a single crab costs 1 fuel. You could choose any horizontal position to align them all on, but the one that costs the least fuel is horizontal position 2:\n",
    "\n",
    "* Move from 16 to 2: 14 fuel\n",
    "* Move from 1 to 2: 1 fuel\n",
    "* Move from 2 to 2: 0 fuel\n",
    "* Move from 0 to 2: 2 fuel\n",
    "* Move from 4 to 2: 2 fuel\n",
    "* Move from 2 to 2: 0 fuel\n",
    "* Move from 7 to 2: 5 fuel\n",
    "* Move from 1 to 2: 1 fuel\n",
    "* Move from 2 to 2: 0 fuel\n",
    "* Move from 14 to 2: 12 fuel\n",
    "\n",
    "\n",
    "This costs a total of 37 fuel. This is the cheapest possible outcome; more expensive outcomes include aligning at position 1 (41 fuel), position 3 (39 fuel), or position 10 (71 fuel).\n",
    "\n",
    "Determine the horizontal position that the crabs can align to using the least fuel possible. How much fuel must they spend to align to that position?"
   ]
  },
  {
   "cell_type": "code",
   "execution_count": 3,
   "metadata": {},
   "outputs": [
    {
     "data": {
      "text/plain": [
       "{'samples': 10}"
      ]
     },
     "metadata": {},
     "output_type": "display_data"
    },
    {
     "data": {
      "text/plain": [
       "{'input': 1000}"
      ]
     },
     "metadata": {},
     "output_type": "display_data"
    },
    {
     "name": "stdout",
     "output_type": "stream",
     "text": [
      "[SAMPLE] Closest linear position 2 at a cost of 37\n"
     ]
    }
   ],
   "source": [
    "day = 7\n",
    "\n",
    "def parse_data(filename):\n",
    "    f = open(filename)\n",
    "    return [int(i) for i in f.readline().split(',')]\n",
    "\n",
    "def determine_linear_fuel_cost(positions):\n",
    "    measurements = [0 for _ in positions]\n",
    "    for i in range(0,len(positions)):\n",
    "        measurements[i] = sum([abs(d - i) for d in positions])\n",
    "    lowest = None\n",
    "\n",
    "    for index, value in enumerate(measurements):\n",
    "        if lowest is None:\n",
    "            lowest = (index,value)\n",
    "        elif lowest[1] > value:\n",
    "            lowest = (index,value)\n",
    "    \n",
    "    return lowest\n",
    "\n",
    "\n",
    "sample = parse_data(f'day{day}.sample.dat')\n",
    "display({'samples': len(sample)})\n",
    "input = parse_data(f'day{day}.dat')\n",
    "display({'input': len(input)})\n",
    "\n",
    "position = determine_linear_fuel_cost(sample)\n",
    "print(f'[SAMPLE] Closest linear position {position[0]} at a cost of {position[1]}')\n",
    "if position[0] != 2:\n",
    "    raise ValueError(f'Expected 2, actual position {position[0]} at a cost of {position[1]}')"
   ]
  },
  {
   "cell_type": "code",
   "execution_count": 4,
   "metadata": {},
   "outputs": [
    {
     "name": "stdout",
     "output_type": "stream",
     "text": [
      "[INPUT] Closest position 340 at a cost of 345197\n"
     ]
    }
   ],
   "source": [
    "position = determine_linear_fuel_cost(input)\n",
    "print(f'[INPUT] Closest position {position[0]} at a cost of {position[1]}')\n"
   ]
  },
  {
   "cell_type": "markdown",
   "metadata": {},
   "source": [
    "## --- Part Two ---\n",
    "The crabs don't seem interested in your proposed solution. Perhaps you misunderstand crab engineering?\n",
    "\n",
    "As it turns out, crab submarine engines don't burn fuel at a constant rate. Instead, each change of 1 step in horizontal position costs 1 more unit of fuel than the last: the first step costs 1, the second step costs 2, the third step costs 3, and so on.\n",
    "\n",
    "As each crab moves, moving further becomes more expensive. This changes the best horizontal position to align them all on; in the example above, this becomes 5:\n",
    "\n",
    "* Move from 16 to 5: 66 fuel\n",
    "* Move from 1 to 5: 10 fuel\n",
    "* Move from 2 to 5: 6 fuel\n",
    "* Move from 0 to 5: 15 fuel\n",
    "* Move from 4 to 5: 1 fuel\n",
    "* Move from 2 to 5: 6 fuel\n",
    "* Move from 7 to 5: 3 fuel\n",
    "* Move from 1 to 5: 10 fuel\n",
    "* Move from 2 to 5: 6 fuel\n",
    "* Move from 14 to 5: 45 fuel\n",
    "\n",
    "This costs a total of 168 fuel. This is the new cheapest possible outcome; the old alignment position (2) now costs 206 fuel instead.\n",
    "\n",
    "Determine the horizontal position that the crabs can align to using the least fuel possible so they can make you an escape route! How much fuel must they spend to align to that position?"
   ]
  },
  {
   "cell_type": "code",
   "execution_count": 12,
   "metadata": {},
   "outputs": [
    {
     "name": "stdout",
     "output_type": "stream",
     "text": [
      "[SAMPLE] Closest geometric position 5 at a cost of 168\n"
     ]
    }
   ],
   "source": [
    "def geometric_cost(number):\n",
    "    cost = 0\n",
    "    while number > 0:\n",
    "        cost += number\n",
    "        number -=1 \n",
    "\n",
    "    return cost\n",
    "\n",
    "def determine_geometric_fuel_cost(positions):\n",
    "    costs = {}\n",
    "    def lookup_cost(source, target):\n",
    "        key = f'{source}->{target}'\n",
    "        if key not in costs:\n",
    "            costs[key]= geometric_cost(abs(source-target))\n",
    "        return costs[key]            \n",
    "\n",
    "    lowest = None\n",
    "    for slot in range(0,len(positions)+1):\n",
    "        cost =  sum([ lookup_cost(distance,slot) for distance in  positions])\n",
    "        if lowest is None:\n",
    "            lowest = (slot, cost)\n",
    "        elif lowest[1] > cost:\n",
    "            lowest = (slot,cost)\n",
    "    \n",
    "    return lowest\n",
    "\n",
    "position = determine_geometric_fuel_cost(sample)\n",
    "print(f'[SAMPLE] Closest geometric position {position[0]} at a cost of {position[1]}')\n",
    "if position[0] != 5 or position[1] != 168:\n",
    "    raise ValueError(f'Expected 5, actual position {position[0]} at a cost of {position[1]}')"
   ]
  },
  {
   "cell_type": "code",
   "execution_count": 13,
   "metadata": {},
   "outputs": [
    {
     "name": "stdout",
     "output_type": "stream",
     "text": [
      "[input] Closest geometric position 475 at a cost of 96361606\n"
     ]
    }
   ],
   "source": [
    "position = determine_geometric_fuel_cost(input)\n",
    "print(f'[input] Closest geometric position {position[0]} at a cost of {position[1]}')"
   ]
  }
 ],
 "metadata": {
  "interpreter": {
   "hash": "6f7c4d44365b28014734406e4d617c1e1f76ea196def854c7b951a230f6e24f1"
  },
  "kernelspec": {
   "display_name": "Python 3.9.7 64-bit",
   "language": "python",
   "name": "python3"
  },
  "language_info": {
   "codemirror_mode": {
    "name": "ipython",
    "version": 3
   },
   "file_extension": ".py",
   "mimetype": "text/x-python",
   "name": "python",
   "nbconvert_exporter": "python",
   "pygments_lexer": "ipython3",
   "version": "3.9.7"
  },
  "orig_nbformat": 4
 },
 "nbformat": 4,
 "nbformat_minor": 2
}
