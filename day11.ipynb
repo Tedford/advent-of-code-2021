{
 "cells": [
  {
   "cell_type": "code",
   "execution_count": 36,
   "metadata": {},
   "outputs": [
    {
     "data": {
      "text/plain": [
       "{'samples': 10}"
      ]
     },
     "metadata": {},
     "output_type": "display_data"
    },
    {
     "data": {
      "text/plain": [
       "{'input': 10}"
      ]
     },
     "metadata": {},
     "output_type": "display_data"
    },
    {
     "name": "stdout",
     "output_type": "stream",
     "text": [
      "[[8, 7, None, 6, 4, 7, 5, 5, 5, 5], [6, None, 9, None, None, None, 9, None, 7, 6], [9, 9, None, None, None, None, None, None, None, 8], [None, 8, None, None, None, None, None, None, None, None], [None, None, None, None, None, None, None, None, None, None], [8, 7, None, None, None, None, None, None, None, None], [6, 8, None, None, None, None, None, None, 7, 6], [9, None, None, None, None, None, 8, 8, 8, 9], [7, None, None, None, None, None, None, 8, 7, 6], [7, 5, None, 9, None, None, 4, 6, 3, 7]]\n",
      "[SAMPLE] After 2 steps there were 9 flashes\n"
     ]
    }
   ],
   "source": [
    "day = 11\n",
    "\n",
    "def parse_data(filename):\n",
    "    f = open(filename)\n",
    "    return [[int(height) for height in line.strip()] for line in f.readlines()]\n",
    "\n",
    "def advance(grid, steps):\n",
    "    def inspect(x,y):\n",
    "        flipped = 0\n",
    "        value = grid[y][x]\n",
    "        next = []    \n",
    "        if value is None:\n",
    "            pass\n",
    "        elif value + 1 > 9:\n",
    "            flipped += 1\n",
    "            grid[y][x] = None\n",
    "\n",
    "            if x > 0:\n",
    "                next.append((y,x-1))\n",
    "            if x < 9:\n",
    "                next.append((y,x+1))\n",
    "            if y > 0:\n",
    "                next.append((y-1,x))\n",
    "            if y < 9:\n",
    "                next.append((y+1, x))\n",
    "            if y > 0 and x > 0:\n",
    "                next.append((y-1, x-1))\n",
    "            if y > 0 and x < 9:\n",
    "                next.append((y-1, x+1))\n",
    "            if y < 9 and x > 0:\n",
    "                next.append((y+1,x-1))\n",
    "            if y < 9 and x < 9:\n",
    "                next.append((y+1, x+1))\n",
    "        else:\n",
    "            grid[y][x] = value +1\n",
    "\n",
    "        return (flipped,next)\n",
    "\n",
    "    def step(grid):\n",
    "        flashed = 0\n",
    "        for y in range(0, 10):\n",
    "            for x in range(0,10):\n",
    "                \n",
    "                incr, affected = inspect(x, y)\n",
    "                flashed += incr\n",
    "\n",
    "                index = 0\n",
    "                while index < len(affected):\n",
    "                    x,y = affected[index]\n",
    "                    incr, next = inspect(x,y)\n",
    "                    flashed += incr\n",
    "                    affected += next\n",
    "                    index += 1\n",
    "\n",
    "        return grid,flashed\n",
    "\n",
    "    flashes = 0\n",
    "    for _ in range(0,steps):\n",
    "        grid, incr = step(grid)\n",
    "        flashes += incr\n",
    "\n",
    "    return (grid,flashes)\n",
    "\n",
    "\n",
    "sample = parse_data(f'day{day}.sample.dat')\n",
    "display({'samples': len(sample)})\n",
    "input = parse_data(f'day{day}.dat')\n",
    "display({'input': len(input)})\n",
    "\n",
    "steps =2\n",
    "final, count = advance(sample, steps)\n",
    "print(final)\n",
    "print(f'[SAMPLE] After {steps} steps there were {count} flashes')"
   ]
  }
 ],
 "metadata": {
  "interpreter": {
   "hash": "6f7c4d44365b28014734406e4d617c1e1f76ea196def854c7b951a230f6e24f1"
  },
  "kernelspec": {
   "display_name": "Python 3.9.7 64-bit",
   "language": "python",
   "name": "python3"
  },
  "language_info": {
   "codemirror_mode": {
    "name": "ipython",
    "version": 3
   },
   "file_extension": ".py",
   "mimetype": "text/x-python",
   "name": "python",
   "nbconvert_exporter": "python",
   "pygments_lexer": "ipython3",
   "version": "3.9.7"
  },
  "orig_nbformat": 4
 },
 "nbformat": 4,
 "nbformat_minor": 2
}
