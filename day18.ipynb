{
 "cells": [
  {
   "cell_type": "code",
   "execution_count": 1,
   "metadata": {},
   "outputs": [],
   "source": [
    "day = 18\n",
    "\n",
    "class SnailFish(object):\n",
    "    def __init__(self,left, right, level):\n",
    "        self.left = left\n",
    "        self.right = right\n",
    "        self.level = level\n",
    "\n",
    "\n",
    "def parse_data(filename):\n",
    "    def parse_line(line):\n",
    "        pairs = []\n",
    "        \n",
    "        left = None\n",
    "        right = None\n",
    "\n",
    "        level = 0\n",
    "        index = 0\n",
    "        end = len(line.strip())\n",
    "\n",
    "        while index < end:\n",
    "            c = line[index]\n",
    "            if c == '[':\n",
    "                level += 1\n",
    "            elif c == ']':\n",
    "                level -= 1\n",
    "            elif c == ',':\n",
    "                pass\n",
    "\n",
    "            index += 1\n",
    "\n",
    "        # for c in line.strip():\n",
    "        #     if c == '[':\n",
    "        #         level+= 1\n",
    "        #     elif c == ']':\n",
    "        #         level -= 1\n",
    "        #     elif c == ',':\n",
    "        #         pass\n",
    "        #     elif left is None:\n",
    "        #         left = int(c)\n",
    "        #     else:\n",
    "        #         right = int(c)\n",
    "\n",
    "            \n",
    "\n",
    "\n",
    "        return pairs\n",
    "\n",
    "    f = open(filename)\n",
    "\n",
    "    fish = [parse_line(line) for line in f.readlines()]\n",
    "\n",
    "    f.close()\n",
    "\n",
    "    return fish\n",
    "\n",
    "sample = parse_data(f'day{day}.sample.dat')"
   ]
  }
 ],
 "metadata": {
  "interpreter": {
   "hash": "6f7c4d44365b28014734406e4d617c1e1f76ea196def854c7b951a230f6e24f1"
  },
  "kernelspec": {
   "display_name": "Python 3.9.7 64-bit",
   "language": "python",
   "name": "python3"
  },
  "language_info": {
   "codemirror_mode": {
    "name": "ipython",
    "version": 3
   },
   "file_extension": ".py",
   "mimetype": "text/x-python",
   "name": "python",
   "nbconvert_exporter": "python",
   "pygments_lexer": "ipython3",
   "version": "3.9.7"
  },
  "orig_nbformat": 4
 },
 "nbformat": 4,
 "nbformat_minor": 2
}
