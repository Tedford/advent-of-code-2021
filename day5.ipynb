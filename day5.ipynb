{
 "cells": [
  {
   "cell_type": "markdown",
   "metadata": {},
   "source": [
    "# --- Day 5: Hydrothermal Venture ---\n",
    "You come across a field of hydrothermal vents on the ocean floor! These vents constantly produce large, opaque clouds, so it would be best to avoid them if possible.\n",
    "\n",
    "## --- Part Two ---\n",
    "Unfortunately, considering only horizontal and vertical lines doesn't give you the full picture; you need to also consider diagonal lines.\n",
    "\n",
    "Because of the limits of the hydrothermal vent mapping system, the lines in your list will only ever be horizontal, vertical, or a diagonal line at exactly 45 degrees. In other words:"
   ]
  },
  {
   "cell_type": "code",
   "execution_count": 45,
   "metadata": {},
   "outputs": [
    {
     "data": {
      "text/plain": [
       "{'limits': (9, 9), 'coordinates': 10}"
      ]
     },
     "metadata": {},
     "output_type": "display_data"
    },
    {
     "data": {
      "text/plain": [
       "{'limits': (990, 989), 'coordinates': 500}"
      ]
     },
     "metadata": {},
     "output_type": "display_data"
    },
    {
     "data": {
      "text/plain": [
       "[[0, 0, 0, 0, 0, 0, 0, 1, 0, 0],\n",
       " [0, 0, 1, 0, 0, 0, 0, 1, 0, 0],\n",
       " [0, 0, 1, 0, 0, 0, 0, 1, 0, 0],\n",
       " [0, 0, 0, 0, 0, 0, 0, 1, 0, 0],\n",
       " [0, 1, 1, 2, 1, 1, 1, 2, 1, 1],\n",
       " [0, 0, 0, 0, 0, 0, 0, 0, 0, 0],\n",
       " [0, 0, 0, 0, 0, 0, 0, 0, 0, 0],\n",
       " [0, 0, 0, 0, 0, 0, 0, 0, 0, 0],\n",
       " [0, 0, 0, 0, 0, 0, 0, 0, 0, 0],\n",
       " [2, 2, 2, 1, 1, 1, 0, 0, 0, 0]]"
      ]
     },
     "metadata": {},
     "output_type": "display_data"
    },
    {
     "name": "stdout",
     "output_type": "stream",
     "text": [
      "Sample: Part 1 5 collisions\n"
     ]
    },
    {
     "data": {
      "text/plain": [
       "[[1, 0, 1, 0, 0, 0, 0, 1, 1, 0],\n",
       " [0, 1, 1, 1, 0, 0, 0, 2, 0, 0],\n",
       " [0, 0, 2, 0, 1, 0, 1, 1, 1, 0],\n",
       " [0, 0, 0, 1, 0, 2, 0, 2, 0, 0],\n",
       " [0, 1, 1, 2, 3, 1, 3, 2, 1, 1],\n",
       " [0, 0, 0, 1, 0, 2, 0, 0, 0, 0],\n",
       " [0, 0, 1, 0, 0, 0, 1, 0, 0, 0],\n",
       " [0, 1, 0, 0, 0, 0, 0, 1, 0, 0],\n",
       " [1, 0, 0, 0, 0, 0, 0, 0, 1, 0],\n",
       " [2, 2, 2, 1, 1, 1, 0, 0, 0, 0]]"
      ]
     },
     "metadata": {},
     "output_type": "display_data"
    },
    {
     "name": "stdout",
     "output_type": "stream",
     "text": [
      "Sample: Part 2 12 collisions\n"
     ]
    }
   ],
   "source": [
    "day = 5\n",
    "\n",
    "def parse_coordinates(line):\n",
    "    left, right = line.split('->')\n",
    "    x1, y1 = left.strip().split(',')\n",
    "    x2, y2 = right.strip().split(',')\n",
    "    return (int(x1),int(y1), int(x2), int(y2))\n",
    "\n",
    "def measure_extents(limits, coordinates):\n",
    "    x0,y0, x1,y1 = coordinates\n",
    "    max_x = max(max(limits[0], x0),x1)\n",
    "    max_y = max(max(limits[1], y0),y1)\n",
    "    return (max_x, max_y)\n",
    "\n",
    "def map_thermals(limits,vectors):\n",
    "    grid = []\n",
    "    for _ in range(0, limits[1]+1):\n",
    "        grid.append([0 for _ in range(0,limits[0]+1)])\n",
    "\n",
    "    for vector in vectors:\n",
    "        for x,y in vector:\n",
    "            try:\n",
    "                grid[y][x] += 1\n",
    "            except IndexError:\n",
    "                print(f'cannot plot ({x},{y})')\n",
    "\n",
    "    return grid\n",
    "\n",
    "def count_collisions(grid):\n",
    "    return sum([ 0 if column < 2 else 1 for row in grid for column in row])\n",
    "\n",
    "def calculate_vectors(coordinates, perpendicular_only = True):\n",
    "    x0, y0, x1, y1= coordinates\n",
    "\n",
    "    points = []\n",
    "    if y0 == y1 or x0 == x1:\n",
    "        if y0 == y1:\n",
    "                points = [(x,y0) for x in (range(x0,x1+1) if x0 < x1 else range(x1,x0+1))]\n",
    "        elif x0 == x1:\n",
    "                points = [(x0,y) for y in (range(y0,y1+1) if y0 < y1 else range(y1,y0+1))]\n",
    "    elif perpendicular_only == False and abs(x0-x1) == abs(y0-y1):\n",
    "        distance = abs(x0-x1)+1\n",
    "        xstep = -1 if x0 > x1 else 1\n",
    "        ystep = -1 if y0 > y1 else 1\n",
    "        points = [(x0+xstep*i,y0+ystep*i) for i in range(0, distance)]\n",
    "\n",
    "    return points \n",
    "\n",
    "def parse_data(filename):\n",
    "    f = open(filename)\n",
    "    coordinates = [parse_coordinates(line) for line in f.readlines()]\n",
    "    limits = (0,0)\n",
    "    for coordinate in coordinates:\n",
    "        limits = measure_extents(limits, coordinate)\n",
    "\n",
    "    return (limits, coordinates)\n",
    "\n",
    "sample = parse_data(f'day{day}.sample.dat')\n",
    "display({'limits': sample[0], 'coordinates': len(sample[1])})\n",
    "input = parse_data(f'day{day}.dat')\n",
    "display({'limits': input[0], 'coordinates': len(input[1])})\n",
    "\n",
    "grid= map_thermals(sample[0], [calculate_vectors(coordinate) for coordinate in sample[1]])\n",
    "display(grid)\n",
    "collisions = count_collisions(grid)\n",
    "print(f'Sample: Part 1 {collisions} collisions')\n",
    "if collisions != 5:\n",
    "    raise ValueError(f'Expected 5 collisions detected {collisions}')\n",
    "\n",
    "\n",
    "grid= map_thermals(sample[0], [calculate_vectors(coordinate, False) for coordinate in sample[1]])\n",
    "display(grid)\n",
    "collisions = count_collisions(grid)\n",
    "print(f'Sample: Part 2 {collisions} collisions')\n",
    "\n",
    "if collisions != 12:\n",
    "    raise ValueError(f'Expected 12 collisions detected {collisions}')"
   ]
  },
  {
   "cell_type": "code",
   "execution_count": 44,
   "metadata": {},
   "outputs": [
    {
     "name": "stdout",
     "output_type": "stream",
     "text": [
      "input 5124 collisions\n"
     ]
    }
   ],
   "source": [
    "grid= map_thermals(input[0], [calculate_vectors(coordinate) for coordinate in input[1]])\n",
    "#display(grid)\n",
    "collisions = count_collisions(grid)\n",
    "print(f'input {collisions} collisions')"
   ]
  },
  {
   "cell_type": "code",
   "execution_count": 43,
   "metadata": {},
   "outputs": [
    {
     "name": "stdout",
     "output_type": "stream",
     "text": [
      "input 19771 collisions\n"
     ]
    }
   ],
   "source": [
    "grid= map_thermals(input[0], [calculate_vectors(coordinate, False) for coordinate in input[1]])\n",
    "#display(grid)\n",
    "collisions = count_collisions(grid)\n",
    "print(f'input {collisions} collisions')"
   ]
  }
 ],
 "metadata": {
  "interpreter": {
   "hash": "6f7c4d44365b28014734406e4d617c1e1f76ea196def854c7b951a230f6e24f1"
  },
  "kernelspec": {
   "display_name": "Python 3.9.7 64-bit",
   "language": "python",
   "name": "python3"
  },
  "language_info": {
   "codemirror_mode": {
    "name": "ipython",
    "version": 3
   },
   "file_extension": ".py",
   "mimetype": "text/x-python",
   "name": "python",
   "nbconvert_exporter": "python",
   "pygments_lexer": "ipython3",
   "version": "3.9.7"
  },
  "orig_nbformat": 4
 },
 "nbformat": 4,
 "nbformat_minor": 2
}
