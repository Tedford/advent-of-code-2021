{
 "cells": [
  {
   "cell_type": "code",
   "execution_count": 23,
   "metadata": {},
   "outputs": [
    {
     "name": "stdout",
     "output_type": "stream",
     "text": [
      "[SAMPLE]: 18 points, 2 folds\n",
      "[INPUT]: 1022 points, 12 folds\n",
      "...#..#..#.\n",
      "....#......\n",
      "...........\n",
      "#..........\n",
      "...#....#.#\n",
      "...........\n",
      "...........\n",
      "...........\n",
      "...........\n",
      "...........\n",
      ".#....#.##.\n",
      "....#......\n",
      "......#...#\n",
      "#..........\n",
      "#.#........\n",
      "[SAMPLE] first fold, 17 points\n",
      "#.##..#..#.\n",
      "#...#......\n",
      "......#...#\n",
      "#...#......\n",
      ".#.#..#.###\n",
      "...........\n",
      "...........\n"
     ]
    }
   ],
   "source": [
    "day = 13\n",
    "\n",
    "def parse_data(filename):\n",
    "    f = open(filename)\n",
    "    \n",
    "    points = []\n",
    "    folds = []\n",
    "\n",
    "    for line in f.readlines():\n",
    "        if ',' in line:\n",
    "            x,y = line.strip().split(',')\n",
    "            points.append((int(x),int(y)))\n",
    "        elif line.startswith(\"fold\"):\n",
    "            text, axis = line.strip().split('=')\n",
    "            folds.append((text[-1],int(axis)))\n",
    "\n",
    "    return points, folds\n",
    "\n",
    "def generate_plot(points):\n",
    "    xs = [x for (x,_) in points]\n",
    "    xs.sort()\n",
    "    max_x = xs[-1]\n",
    "    ys = [y for (_,y) in points]\n",
    "    ys.sort()\n",
    "    max_y = ys[-1]\n",
    "\n",
    "    grid = [[False for x in range(0,max_x+1)] for y in range(0,max_y +1)]\n",
    "\n",
    "    for point in points:\n",
    "        x,y = point\n",
    "        grid[y][x] = True\n",
    "    \n",
    "    return grid\n",
    "\n",
    "def fold(grid, fold):\n",
    "    axis, location = fold\n",
    "    return fold_y(grid, location) if axis == 'y' else fold_x(grid,location)\n",
    "\n",
    "\n",
    "def fold_y(grid, location):\n",
    "    rows = len(grid)\n",
    "    cols = len(grid[0])\n",
    "\n",
    "    folded = [[False for x in range(0,cols)] for y in range(0,location)]\n",
    "\n",
    "    for row in range(0,location):\n",
    "        for col in range(0,cols):\n",
    "            folded[row][col] |= grid[row][col]\n",
    "            folded[row][col] |= grid[rows-row-1][col]\n",
    "\n",
    "    return folded\n",
    "\n",
    "def fold_x(grid, location):\n",
    "    rows = len(grid)\n",
    "    cols = len(grid[0])\n",
    "\n",
    "    folded = [[False for x in range(0,location)] for y in range(0,rows)]\n",
    "\n",
    "    for row in range(0,rows):\n",
    "        for col in range(0,location):\n",
    "            folded[row][col] |= grid[row][col]\n",
    "            folded[row][col] |= grid[row][cols-col-1]\n",
    "\n",
    "    return folded\n",
    "\n",
    "def count_points(grid):\n",
    "    return sum([ 1 if col else 0 for row in grid for col in row])\n",
    "\n",
    "\n",
    "def pretty_print(grid):\n",
    "    return \"\\n\".join([\"\".join(['#' if x else '.' for x in row]) for row in grid])\n",
    "\n",
    "sample = parse_data(f'day{day}.sample.dat')\n",
    "print(f'[SAMPLE]: {len(sample[0])} points, {len(sample[1])} folds')\n",
    "input = parse_data(f'day{day}.dat')\n",
    "print(f'[INPUT]: {len(input[0])} points, {len(input[1])} folds')\n",
    "\n",
    "grid = generate_plot(sample[0])\n",
    "print(pretty_print(grid))\n",
    "\n",
    "grid = fold(grid,sample[1][0])\n",
    "count = count_points(grid)\n",
    "print(f'[SAMPLE] first fold, {count} points')\n",
    "print(pretty_print(grid))\n",
    "if count != 17:\n",
    "    raise ValueError(f'Expected 17 points, detected {count}')\n"
   ]
  },
  {
   "cell_type": "code",
   "execution_count": 25,
   "metadata": {},
   "outputs": [
    {
     "name": "stdout",
     "output_type": "stream",
     "text": [
      "[INPUT] after folding, 842 points\n"
     ]
    }
   ],
   "source": [
    "grid = generate_plot(input[0])\n",
    "#print(pretty_print(grid))\n",
    "\n",
    "\n",
    "grid = fold(grid,input[1][0])\n",
    "count = count_points(grid)\n",
    "print(f'[INPUT] after folding, {count} points')\n",
    "#print(pretty_print(grid))"
   ]
  },
  {
   "cell_type": "markdown",
   "metadata": {},
   "source": [
    "## --- Part Two ---\n",
    "Finish folding the transparent paper according to the instructions. The manual says the code is always eight capital letters.\n",
    "\n",
    "What code do you use to activate the infrared thermal imaging camera system?"
   ]
  },
  {
   "cell_type": "code",
   "execution_count": 26,
   "metadata": {},
   "outputs": [
    {
     "name": "stdout",
     "output_type": "stream",
     "text": [
      "[INPUT] all folds, 95 points\n",
      "###..####.#..#.###...##....##.####.#..#.\n",
      "#..#.#....#.#..#..#.#..#....#....#.#..#.\n",
      "###..###..##...#..#.#.......#...#..#..#.\n",
      "#..#.#....#.#..###..#.......#..#...#..#.\n",
      "#..#.#....#.#..#.#..#..#.#..#.#....#..#.\n",
      "###..#....#..#.#..#..##...##..####..##..\n"
     ]
    }
   ],
   "source": [
    "grid = generate_plot(input[0])\n",
    "\n",
    "for f in input[1]:\n",
    "    grid = fold(grid,f)\n",
    "count = count_points(grid)\n",
    "print(f'[INPUT] all folds, {count} points')\n",
    "print(pretty_print(grid))"
   ]
  }
 ],
 "metadata": {
  "interpreter": {
   "hash": "6f7c4d44365b28014734406e4d617c1e1f76ea196def854c7b951a230f6e24f1"
  },
  "kernelspec": {
   "display_name": "Python 3.9.7 64-bit",
   "language": "python",
   "name": "python3"
  },
  "language_info": {
   "codemirror_mode": {
    "name": "ipython",
    "version": 3
   },
   "file_extension": ".py",
   "mimetype": "text/x-python",
   "name": "python",
   "nbconvert_exporter": "python",
   "pygments_lexer": "ipython3",
   "version": "3.9.7"
  },
  "orig_nbformat": 4
 },
 "nbformat": 4,
 "nbformat_minor": 2
}
