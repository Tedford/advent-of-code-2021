{
 "cells": [
  {
   "cell_type": "markdown",
   "metadata": {},
   "source": [
    "# --- Day 8: Seven Segment Search ---\n",
    "You barely reach the safety of the cave when the whale smashes into the cave mouth, collapsing it. Sensors indicate another exit to this cave at a much greater depth, so you have no choice but to press on.\n",
    "\n",
    "As your submarine slowly makes its way through the cave system, you notice that the four-digit seven-segment displays in your submarine are malfunctioning; they must have been damaged during the escape. You'll be in a lot of trouble without them, so you'd better figure out what's wrong.\n",
    "\n",
    "Each digit of a seven-segment display is rendered by turning on or off any of seven segments named a through g:\n",
    "\n",
    "```\n",
    "  0:      1:      2:      3:      4:\n",
    " aaaa    ....    aaaa    aaaa    ....\n",
    "b    c  .    c  .    c  .    c  b    c\n",
    "b    c  .    c  .    c  .    c  b    c\n",
    " ....    ....    dddd    dddd    dddd\n",
    "e    f  .    f  e    .  .    f  .    f\n",
    "e    f  .    f  e    .  .    f  .    f\n",
    " gggg    ....    gggg    gggg    ....\n",
    "\n",
    "  5:      6:      7:      8:      9:\n",
    " aaaa    aaaa    aaaa    aaaa    aaaa\n",
    "b    .  b    .  .    c  b    c  b    c\n",
    "b    .  b    .  .    c  b    c  b    c\n",
    " dddd    dddd    ....    dddd    dddd\n",
    ".    f  e    f  .    f  e    f  .    f\n",
    ".    f  e    f  .    f  e    f  .    f\n",
    " gggg    gggg    ....    gggg    gggg\n",
    "```\n",
    "\n",
    "So, to render a 1, only segments c and f would be turned on; the rest would be off. To render a 7, only segments a, c, and f would be turned on.\n",
    "\n",
    "The problem is that the signals which control the segments have been mixed up on each display. The submarine is still trying to display numbers by producing output on signal wires a through g, but those wires are connected to segments randomly. Worse, the wire/segment connections are mixed up separately for each four-digit display! (All of the digits within a display use the same connections, though.)\n",
    "\n",
    "So, you might know that only signal wires b and g are turned on, but that doesn't mean segments b and g are turned on: the only digit that uses two segments is 1, so it must mean segments c and f are meant to be on. With just that information, you still can't tell which wire (b/g) goes to which segment (c/f). For that, you'll need to collect more information.\n",
    "\n",
    "For each display, you watch the changing signals for a while, make a note of all ten unique signal patterns you see, and then write down a single four digit output value (your puzzle input). Using the signal patterns, you should be able to work out which pattern corresponds to which digit.\n",
    "\n",
    "For example, here is what you might see in a single entry in your notes:\n",
    "\n",
    "acedgfb cdfbe gcdfa fbcad dab cefabd cdfgeb eafb cagedb ab |\n",
    "cdfeb fcadb cdfeb cdbaf\n",
    "(The entry is wrapped here to two lines so it fits; in your notes, it will all be on a single line.)\n",
    "\n",
    "Each entry consists of ten unique signal patterns, a | delimiter, and finally the four digit output value. Within an entry, the same wire/segment connections are used (but you don't know what the connections actually are). The unique signal patterns correspond to the ten different ways the submarine tries to render a digit using the current wire/segment connections. Because 7 is the only digit that uses three segments, dab in the above example means that to render a 7, signal lines d, a, and b are on. Because 4 is the only digit that uses four segments, eafb means that to render a 4, signal lines e, a, f, and b are on.\n",
    "\n",
    "Using this information, you should be able to work out which combination of signal wires corresponds to each of the ten digits. Then, you can decode the four digit output value. Unfortunately, in the above example, all of the digits in the output value (cdfeb fcadb cdfeb cdbaf) use five segments and are more difficult to deduce.\n",
    "\n",
    "For now, focus on the easy digits. Consider this larger example:\n",
    "\n",
    "```\n",
    "be cfbegad cbdgef fgaecd cgeb fdcge agebfd fecdb fabcd edb |\n",
    "fdgacbe cefdb cefbgd gcbe\n",
    "edbfga begcd cbg gc gcadebf fbgde acbgfd abcde gfcbed gfec |\n",
    "fcgedb cgb dgebacf gc\n",
    "fgaebd cg bdaec gdafb agbcfd gdcbef bgcad gfac gcb cdgabef |\n",
    "cg cg fdcagb cbg\n",
    "fbegcd cbd adcefb dageb afcb bc aefdc ecdab fgdeca fcdbega |\n",
    "efabcd cedba gadfec cb\n",
    "aecbfdg fbg gf bafeg dbefa fcge gcbea fcaegb dgceab fcbdga |\n",
    "gecf egdcabf bgf bfgea\n",
    "fgeab ca afcebg bdacfeg cfaedg gcfdb baec bfadeg bafgc acf |\n",
    "gebdcfa ecba ca fadegcb\n",
    "dbcfg fgd bdegcaf fgec aegbdf ecdfab fbedc dacgb gdcebf gf |\n",
    "cefg dcbef fcge gbcadfe\n",
    "bdfegc cbegaf gecbf dfcage bdacg ed bedf ced adcbefg gebcd |\n",
    "ed bcgafe cdgba cbgef\n",
    "egadfb cdbfeg cegd fecab cgb gbdefca cg fgcdab egfdb bfceg |\n",
    "gbdfcae bgc cg cgb\n",
    "gcafb gcf dcaebfg ecagb gf abcdeg gaef cafbge fdbac fegbdc |\n",
    "fgae cfgab fg bagce\n",
    "```\n",
    "\n",
    "Because the digits 1, 4, 7, and 8 each use a unique number of segments, you should be able to tell which combinations of signals correspond to those digits. Counting only digits in the output values (the part after | on each line), in the above example, there are 26 instances of digits that use a unique number of segments (highlighted above).\n",
    "\n",
    "In the output values, how many times do digits 1, 4, 7, or 8 appear?"
   ]
  },
  {
   "cell_type": "code",
   "execution_count": 48,
   "metadata": {},
   "outputs": [
    {
     "data": {
      "text/plain": [
       "{'samples': 10}"
      ]
     },
     "metadata": {},
     "output_type": "display_data"
    },
    {
     "data": {
      "text/plain": [
       "{'input': 200}"
      ]
     },
     "metadata": {},
     "output_type": "display_data"
    },
    {
     "name": "stdout",
     "output_type": "stream",
     "text": [
      "[SAMPLE] 26 digits known\n"
     ]
    }
   ],
   "source": [
    "day = 8\n",
    "\n",
    "def parse_data(filename):\n",
    "\n",
    "    def parse_line(line):\n",
    "        input, checksum = line.split(\" | \")\n",
    "        return (input.split(' '), checksum.strip().split(' '))\n",
    "\n",
    "    f = open(filename)\n",
    "    return [parse_line(line) for line in f.readlines()]\n",
    "\n",
    "def coerce_digit(signal):\n",
    "    digit = None\n",
    "    if len(signal) == 2:\n",
    "        digit = (signal,1)\n",
    "    elif len(signal) == 3:\n",
    "        digit = (signal,7)\n",
    "    elif len(signal) == 4:\n",
    "        digit = (signal, 4)\n",
    "    elif len(signal) == 7:\n",
    "        digit = (signal, 8)\n",
    "\n",
    "    return digit\n",
    "\n",
    "def coerce_output(output):\n",
    "    parsed = [coerce_digit(digit) for segment in output for digit in segment]\n",
    "    known = [digit for digit in parsed if digit is not None]\n",
    "    return len(known)\n",
    "\n",
    "\n",
    "sample = parse_data(f'day{day}.sample.dat')\n",
    "display({'samples': len(sample)})\n",
    "input = parse_data(f'day{day}.dat')\n",
    "display({'input': len(input)})\n",
    "\n",
    "\n",
    "known = coerce_output([checksum for _, checksum in sample])\n",
    "print(f'[SAMPLE] {known} digits known')\n",
    "if known != 26:\n",
    "    raise ValueError(f'{known} digits known; expected 26' )"
   ]
  },
  {
   "cell_type": "code",
   "execution_count": 40,
   "metadata": {},
   "outputs": [
    {
     "name": "stdout",
     "output_type": "stream",
     "text": [
      "[INPUT] 264 digits known\n"
     ]
    }
   ],
   "source": [
    "known = coerce_output([checksum for _, checksum in input])\n",
    "print(f'[INPUT] {known} digits known')"
   ]
  },
  {
   "cell_type": "markdown",
   "metadata": {},
   "source": [
    "## --- Part Two ---\n",
    "Through a little deduction, you should now be able to determine the remaining digits. Consider again the first example above:\n",
    "\n",
    "acedgfb cdfbe gcdfa fbcad dab cefabd cdfgeb eafb cagedb ab |\n",
    "cdfeb fcadb cdfeb cdbaf\n",
    "After some careful analysis, the mapping between signal wires and segments only make sense in the following configuration:\n",
    "\n",
    "```\n",
    " dddd\n",
    "e    a\n",
    "e    a\n",
    " ffff\n",
    "g    b\n",
    "g    b\n",
    " cccc\n",
    "```\n",
    "\n",
    "So, the unique signal patterns would correspond to the following digits:\n",
    "\n",
    "```\n",
    "acedgfb: 8\n",
    "cdfbe: 5\n",
    "gcdfa: 2\n",
    "fbcad: 3\n",
    "dab: 7\n",
    "cefabd: 9\n",
    "cdfgeb: 6\n",
    "eafb: 4\n",
    "cagedb: 0\n",
    "ab: 1\n",
    "```\n",
    "\n",
    "Then, the four digits of the output value can be decoded:\n",
    "\n",
    "```\n",
    "cdfeb: 5\n",
    "fcadb: 3\n",
    "cdfeb: 5\n",
    "cdbaf: 3\n",
    "```\n",
    "\n",
    "Therefore, the output value for this entry is `5353`.\n",
    "\n",
    "Following this same process for each entry in the second, larger example above, the output value of each entry can be determined:\n",
    "\n",
    "```\n",
    "fdgacbe cefdb cefbgd gcbe: 8394\n",
    "fcgedb cgb dgebacf gc: 9781\n",
    "cg cg fdcagb cbg: 1197\n",
    "efabcd cedba gadfec cb: 9361\n",
    "gecf egdcabf bgf bfgea: 4873\n",
    "gebdcfa ecba ca fadegcb: 8418\n",
    "cefg dcbef fcge gbcadfe: 4548\n",
    "ed bcgafe cdgba cbgef: 1625\n",
    "gbdfcae bgc cg cgb: 8717\n",
    "fgae cfgab fg bagce: 4315\n",
    "```\n",
    "\n",
    "Adding all of the output values in this larger example produces `61229`.\n",
    "\n",
    "For each entry, determine all of the wire/segment connections and decode the four-digit output values. What do you get if you add up all of the output values?"
   ]
  },
  {
   "cell_type": "code",
   "execution_count": 58,
   "metadata": {},
   "outputs": [
    {
     "data": {
      "text/plain": [
       "[8394, 9781, 1197, 9361, 4873, 8418, 4548, 1625, 8717, 4315]"
      ]
     },
     "metadata": {},
     "output_type": "display_data"
    },
    {
     "name": "stdout",
     "output_type": "stream",
     "text": [
      "[SAMPLE] outputs 61229\n"
     ]
    }
   ],
   "source": [
    "def decode(data):\n",
    "    values = []\n",
    "    for panel, checksum in data:\n",
    "\n",
    "        def get_glyph(predicate):\n",
    "            candidates = list(filter(predicate, panel))\n",
    "            if len(candidates) != 1:\n",
    "                raise ValueError(\"The predicate did not identify one and only one entry\")\n",
    "            return ''.join(sorted(candidates[0]))\n",
    "\n",
    "        known = list(filter(None,[coerce_digit(digit) for digit in panel]))\n",
    "        get_known = lambda x : ''.join(sorted([pattern for pattern,digit in known if digit == x][0]))\n",
    "\n",
    "        one = get_known(1)\n",
    "        four = get_known(4)\n",
    "        seven = get_known(7)\n",
    "        eight = get_known(8)\n",
    "\n",
    "        top_right, bottom_right = one\n",
    "        top = [c for c in seven if c not in one][0]\n",
    "        middles = [c for c in four if c not in seven]\n",
    "\n",
    "        if len([0 for glyph in panel if len(glyph) == 6 and middles[0] in glyph])== 2:\n",
    "            middle = middles[0]\n",
    "        else:\n",
    "            middle = middles[1]\n",
    "\n",
    "        top_left = [c for c in four if c not in [middle,top_right,bottom_right]][0]\n",
    "\n",
    "        five = get_glyph(lambda s : len(s)==5 and top_left in s)\n",
    "        # flip assignment\n",
    "        if not bottom_right in five:\n",
    "            bottom_right, top_right = one\n",
    "\n",
    "        bottom = [c for c in five if c not in [top, top_left, middle, bottom_right]][0]\n",
    "\n",
    "        two = get_glyph(lambda s : len(s)==5 and not bottom_right in s)\n",
    "\n",
    "        bottom_left = [c for c in two if c not in [top, top_right, middle, bottom]][0]\n",
    "\n",
    "        three = get_glyph(lambda s : len(s)==5 and top_right in s and bottom_right in s)\n",
    "        zero = get_glyph(lambda s : len(s)==6 and not middle in s)\n",
    "        six = get_glyph(lambda s : len(s)==6 and not top_right in s)\n",
    "        nine = get_glyph(lambda s : len(s)==6 and not bottom_left in s)\n",
    "\n",
    "        codex = {\n",
    "            one: '1',\n",
    "            two: '2',\n",
    "            three: '3',\n",
    "            four: '4',\n",
    "            five: '5',\n",
    "            six: '6',\n",
    "            seven: '7',\n",
    "            eight: '8',\n",
    "            nine: '9',\n",
    "            zero: '0',\n",
    "        }\n",
    "\n",
    "        values.append(int(''.join([codex[digit] for digit in [''.join(sorted(digit)) for digit in checksum]])))\n",
    "\n",
    "    return values\n",
    "\n",
    "\n",
    "values = decode(sample)\n",
    "display(values)\n",
    "actual = sum(values)\n",
    "print(f'[SAMPLE] outputs {actual}')\n",
    "if actual != 61229:\n",
    "    raise ValueError(f'Expected 61229, actual {actual}')\n",
    "\n"
   ]
  },
  {
   "cell_type": "code",
   "execution_count": 60,
   "metadata": {},
   "outputs": [
    {
     "name": "stdout",
     "output_type": "stream",
     "text": [
      "[input] outputs 1063760\n"
     ]
    }
   ],
   "source": [
    "values = decode(input)\n",
    "#display(values)\n",
    "actual = sum(values)\n",
    "print(f'[input] outputs {actual}')"
   ]
  }
 ],
 "metadata": {
  "interpreter": {
   "hash": "6f7c4d44365b28014734406e4d617c1e1f76ea196def854c7b951a230f6e24f1"
  },
  "kernelspec": {
   "display_name": "Python 3.9.7 64-bit",
   "language": "python",
   "name": "python3"
  },
  "language_info": {
   "codemirror_mode": {
    "name": "ipython",
    "version": 3
   },
   "file_extension": ".py",
   "mimetype": "text/x-python",
   "name": "python",
   "nbconvert_exporter": "python",
   "pygments_lexer": "ipython3",
   "version": "3.9.7"
  },
  "orig_nbformat": 4
 },
 "nbformat": 4,
 "nbformat_minor": 2
}
