{
 "cells": [
  {
   "cell_type": "markdown",
   "metadata": {},
   "source": [
    "# --- Day 10: Syntax Scoring ---\n",
    "You ask the submarine to determine the best route out of the deep-sea cave, but it only replies:\n",
    "\n",
    "Syntax error in navigation subsystem on line: all of them\n",
    "All of them?! The damage is worse than you thought. You bring up a copy of the navigation subsystem (your puzzle input).\n",
    "\n",
    "The navigation subsystem syntax is made of several lines containing chunks. There are one or more chunks on each line, and chunks contain zero or more other chunks. Adjacent chunks are not separated by any delimiter; if one chunk stops, the next chunk (if any) can immediately start. Every chunk must open and close with one of four legal pairs of matching characters:\n",
    "\n",
    "If a chunk opens with (, it must close with ).\n",
    "If a chunk opens with [, it must close with ].\n",
    "If a chunk opens with {, it must close with }.\n",
    "If a chunk opens with <, it must close with >."
   ]
  },
  {
   "cell_type": "code",
   "execution_count": 15,
   "metadata": {},
   "outputs": [
    {
     "data": {
      "text/plain": [
       "{'samples': 10}"
      ]
     },
     "metadata": {},
     "output_type": "display_data"
    },
    {
     "data": {
      "text/plain": [
       "{'input': 94}"
      ]
     },
     "metadata": {},
     "output_type": "display_data"
    },
    {
     "name": "stdout",
     "output_type": "stream",
     "text": [
      "[SAMPLE] Detected [1197, 3, 57, 3, 25137]\n",
      "[SAMPLE] 26397\n"
     ]
    }
   ],
   "source": [
    "day = 10\n",
    "\n",
    "WELLFORMED = 'W'\n",
    "CORRUPT = 'C'\n",
    "INCOMPLETE = 'I'\n",
    "\n",
    "\n",
    "def parse_data(filename):\n",
    "    f = open(filename)\n",
    "    return [inspect(line.strip()) for line in f.readlines()]\n",
    "\n",
    "def inspect(line):\n",
    "    state = (WELLFORMED,None)\n",
    "    expecting = []\n",
    "\n",
    "    for _, value in enumerate(line):\n",
    "        if state[0] != WELLFORMED:\n",
    "            break\n",
    "\n",
    "        if value in ['(', '[','{','<']:\n",
    "            expecting.append(value)\n",
    "        elif value == ')' and expecting[-1] == '(':\n",
    "            expecting = expecting[0:-1]\n",
    "        elif value == ']' and expecting[-1] == '[':\n",
    "            expecting = expecting[0:-1]\n",
    "        elif value == '>' and expecting[-1] == '<':\n",
    "            expecting = expecting[0:-1]\n",
    "        elif value == '}' and expecting[-1] == '{':\n",
    "            expecting = expecting[0:-1]\n",
    "        else:\n",
    "            state = (CORRUPT, value)\n",
    "\n",
    "    if len(expecting) > 0 and state[0] == WELLFORMED:\n",
    "        state = (INCOMPLETE, expecting[::-1])\n",
    "\n",
    "    return state\n",
    "\n",
    "def score_corruption(data):\n",
    "    corrupted = list(filter(lambda state : state[0] == CORRUPT,data))\n",
    "    score = {')': 3, ']': 57, '}':1197, '>': 25137 }\n",
    "    return [score[glyph] for _,glyph in corrupted]\n",
    "    \n",
    "\n",
    "sample = parse_data(f'day{day}.sample.dat')\n",
    "display({'samples': len(sample)})\n",
    "input = parse_data(f'day{day}.dat')\n",
    "display({'input': len(input)})\n",
    "\n",
    "detected = score_corruption(sample)\n",
    "score = sum(detected)\n",
    "print(f'[SAMPLE] Detected {detected}')\n",
    "print(f'[SAMPLE] {score}')\n",
    "if score != 26397:\n",
    "    raise ValueError(f'Expected 26397, actual {score}')"
   ]
  },
  {
   "cell_type": "code",
   "execution_count": 14,
   "metadata": {},
   "outputs": [
    {
     "name": "stdout",
     "output_type": "stream",
     "text": [
      "[SAMPLE] 315693\n"
     ]
    }
   ],
   "source": [
    "detected = score_corruption(input)\n",
    "score = sum(detected)\n",
    "print(f'[INPUT] {score}')"
   ]
  },
  {
   "cell_type": "markdown",
   "metadata": {},
   "source": [
    "## --- Part Two ---\n",
    "Now, discard the corrupted lines. The remaining lines are incomplete.\n",
    "\n",
    "Incomplete lines don't have any incorrect characters - instead, they're missing some closing characters at the end of the line. To repair the navigation subsystem, you just need to figure out the sequence of closing characters that complete all open chunks in the line.\n",
    "\n",
    "You can only use closing characters (), ], }, or >), and you must add them in the correct order so that only legal pairs are formed and all chunks end up closed."
   ]
  },
  {
   "cell_type": "code",
   "execution_count": 23,
   "metadata": {},
   "outputs": [
    {
     "name": "stdout",
     "output_type": "stream",
     "text": [
      "[SAMPLE] Detected [294, 5566, 288957, 995444, 1480781]\n",
      "[SAMPLE] 288957\n"
     ]
    }
   ],
   "source": [
    "def score_incomplete(data):\n",
    "    incomplete = list(filter(lambda state : state[0] == INCOMPLETE,data))\n",
    "    score = {'(': 1, '[': 2, '{':3, '<': 4 }\n",
    "\n",
    "    def score_sequence(glyphs):\n",
    "        return [score[glyph] for glyph in glyphs]\n",
    "\n",
    "    def calculate_score(values):\n",
    "        total = 0\n",
    "\n",
    "        for value in values:\n",
    "            total = total * 5 + value\n",
    "\n",
    "        return total\n",
    "\n",
    "    totals =[calculate_score(points) for points in [score_sequence(sequence) for _,sequence in incomplete]]\n",
    "    totals.sort()\n",
    "\n",
    "    return totals\n",
    "\n",
    "\n",
    "totals = score_incomplete(sample)\n",
    "print(f'[SAMPLE] Detected {totals}')\n",
    "score= totals[len(totals)//2]\n",
    "print(f'[SAMPLE] {score}')\n",
    "if score != 288957:\n",
    "    raise ValueError(f'Expected 288957, actual {score}')\n"
   ]
  },
  {
   "cell_type": "code",
   "execution_count": 24,
   "metadata": {},
   "outputs": [
    {
     "name": "stdout",
     "output_type": "stream",
     "text": [
      "[INPUT] 1870887234\n"
     ]
    }
   ],
   "source": [
    "totals = score_incomplete(input)\n",
    "score= totals[len(totals)//2]\n",
    "print(f'[INPUT] {score}')"
   ]
  }
 ],
 "metadata": {
  "interpreter": {
   "hash": "6f7c4d44365b28014734406e4d617c1e1f76ea196def854c7b951a230f6e24f1"
  },
  "kernelspec": {
   "display_name": "Python 3.9.7 64-bit",
   "language": "python",
   "name": "python3"
  },
  "language_info": {
   "codemirror_mode": {
    "name": "ipython",
    "version": 3
   },
   "file_extension": ".py",
   "mimetype": "text/x-python",
   "name": "python",
   "nbconvert_exporter": "python",
   "pygments_lexer": "ipython3",
   "version": "3.9.7"
  },
  "orig_nbformat": 4
 },
 "nbformat": 4,
 "nbformat_minor": 2
}
